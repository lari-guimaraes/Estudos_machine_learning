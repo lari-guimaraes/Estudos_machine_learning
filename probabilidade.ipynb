{
  "nbformat": 4,
  "nbformat_minor": 0,
  "metadata": {
    "colab": {
      "provenance": [],
      "mount_file_id": "https://github.com/lari-guimaraes/Estudos_machine_learning/blob/main/Probabilidade.ipynb",
      "authorship_tag": "ABX9TyNLLsmLw7ptCWRuxP0A63NK",
      "include_colab_link": true
    },
    "kernelspec": {
      "name": "python3",
      "display_name": "Python 3"
    },
    "language_info": {
      "name": "python"
    }
  },
  "cells": [
    {
      "cell_type": "markdown",
      "metadata": {
        "id": "view-in-github",
        "colab_type": "text"
      },
      "source": [
        "<a href=\"https://colab.research.google.com/github/lari-guimaraes/Estudos_machine_learning/blob/main/probabilidade.ipynb\" target=\"_parent\"><img src=\"https://colab.research.google.com/assets/colab-badge.svg\" alt=\"Open In Colab\"/></a>"
      ]
    },
    {
      "cell_type": "markdown",
      "source": [
        "# Probabilidade\n",
        "\n",
        "* São as chances de um evento ocorrer\n",
        "* Representado com números entre 0 e 1\n",
        "* Probabilidade de jogar uma moeda (1/2 = 0.5 = 50%)\n",
        "* O ato de jogar a moeda é chamado de tentativa (trial) - experimento\n",
        "* Cada jogada da moeda é independente da outra\n"
      ],
      "metadata": {
        "id": "bXMu4HBbudUZ"
      }
    },
    {
      "cell_type": "markdown",
      "source": [
        "## Experimento, evento e espaço amostral\n",
        "\n",
        "  * Cada tentativa de jogar a moeda é chamado de um **experimento**\n",
        "  * Cada resultado (cara ou coroa) é chamado de **evento**\n",
        "  * A soma de todos os possíveis eventos é chamado de **espaço amostral**\n",
        "  * Exemplo - dados\n",
        "    * Cada \"Jogada\" é um experimento\n",
        "    * Eventos: 1, 2, 3, 4, 5, 6\n",
        "    * Espaço amostral: {E1, E2, E3,E4,E5,E6}"
      ],
      "metadata": {
        "id": "O7OWZllJu9EU"
      }
    },
    {
      "cell_type": "markdown",
      "source": [
        "## Importações"
      ],
      "metadata": {
        "id": "PG-eH-C7wmo9"
      }
    },
    {
      "cell_type": "code",
      "source": [
        "import numpy as np\n",
        "from scipy import stats\n",
        "import seaborn as sns"
      ],
      "metadata": {
        "id": "zBl7t4FEwonC"
      },
      "execution_count": 1,
      "outputs": []
    },
    {
      "cell_type": "markdown",
      "source": [
        "## Permutação\n",
        "\n",
        "* Arranjar objetos em uma sequência\n",
        "* Quais são as permutações possíveis para as letras A, B e C?\n",
        "* Fatorial!\n",
        "* 3! = 3 x 2 x 1 = 6 (permutações)\n"
      ],
      "metadata": {
        "id": "It78rk5kwK82"
      }
    },
    {
      "cell_type": "code",
      "source": [
        "import math"
      ],
      "metadata": {
        "id": "rmGJNXS4wktL"
      },
      "execution_count": 2,
      "outputs": []
    },
    {
      "cell_type": "code",
      "source": [
        "math.factorial(3)"
      ],
      "metadata": {
        "colab": {
          "base_uri": "https://localhost:8080/"
        },
        "id": "icot7hhJu8dA",
        "outputId": "9ec704b9-48da-4924-f8dc-b78b23338548"
      },
      "execution_count": 3,
      "outputs": [
        {
          "output_type": "execute_result",
          "data": {
            "text/plain": [
              "6"
            ]
          },
          "metadata": {},
          "execution_count": 3
        }
      ]
    },
    {
      "cell_type": "markdown",
      "source": [
        "### Permutação para subconjuntos\n",
        "\n",
        "* Criar uma senha com 5 caracteres, que pode ser composto por letras e números de 0 até 9\n",
        "* Números e letras não podem ser repetidos\n",
        "* Evento: 5 caracteres\n",
        "* Espaço amostral: 26 letras + 10 digitos = 36"
      ],
      "metadata": {
        "id": "NC31HR3aw7Iy"
      }
    },
    {
      "cell_type": "code",
      "source": [
        "math.factorial(36)/math.factorial(36-5)"
      ],
      "metadata": {
        "colab": {
          "base_uri": "https://localhost:8080/"
        },
        "id": "bezXCg6Qw2r5",
        "outputId": "46639fc4-9f57-4275-a456-c9030b90320b"
      },
      "execution_count": 4,
      "outputs": [
        {
          "output_type": "execute_result",
          "data": {
            "text/plain": [
              "45239040.0"
            ]
          },
          "metadata": {},
          "execution_count": 4
        }
      ]
    },
    {
      "cell_type": "markdown",
      "source": [
        "* Criar uma senha com 5 caracteres, que pode ser composto por letras e números de 0 até 9\n",
        "* Números e letras PODEM ser repetidos\n",
        "* Evento: 5 caracteres\n",
        "* Espaço amostral: 26 letras + 10 digitos = 36\n",
        "* n^r = 36^5 = 60.466.176"
      ],
      "metadata": {
        "id": "cxr3Vgmyxf8H"
      }
    },
    {
      "cell_type": "code",
      "source": [
        "math.pow(36, 5)"
      ],
      "metadata": {
        "colab": {
          "base_uri": "https://localhost:8080/"
        },
        "id": "jj2LlRkzxd28",
        "outputId": "65c3449f-5bbb-4588-9f22-8db66fd0c87e"
      },
      "execution_count": 5,
      "outputs": [
        {
          "output_type": "execute_result",
          "data": {
            "text/plain": [
              "60466176.0"
            ]
          },
          "metadata": {},
          "execution_count": 5
        }
      ]
    },
    {
      "cell_type": "markdown",
      "source": [
        "## Combinação\n",
        "\n",
        "* Número possível de arranjos em uma coleção (a ordem não importa como na permutação)\n",
        "* Quantas combinações de 2 letras podem ser feitas com ABCDEF?\n",
        "* Sem considerar repetições\n",
        "* C = n!/r!(n - r)!"
      ],
      "metadata": {
        "id": "h1-K0xcCyQbk"
      }
    },
    {
      "cell_type": "code",
      "source": [
        "math.factorial(6)/(math.factorial(2) * math.factorial(6-2))"
      ],
      "metadata": {
        "colab": {
          "base_uri": "https://localhost:8080/"
        },
        "id": "8M-O4R6Sx5Aa",
        "outputId": "1aed5cea-f57d-44f3-f2f3-5b1b6fe20d32"
      },
      "execution_count": 6,
      "outputs": [
        {
          "output_type": "execute_result",
          "data": {
            "text/plain": [
              "15.0"
            ]
          },
          "metadata": {},
          "execution_count": 6
        }
      ]
    },
    {
      "cell_type": "markdown",
      "source": [
        "* Considerando repetições\n",
        "* C = (n+r - 1)!/r!(n-1)!"
      ],
      "metadata": {
        "id": "r7mCROjYy-ux"
      }
    },
    {
      "cell_type": "code",
      "source": [
        "math.factorial(6+2-1)/(math.factorial(2)*math.factorial(6-1))"
      ],
      "metadata": {
        "colab": {
          "base_uri": "https://localhost:8080/"
        },
        "id": "Ywn-qD9Cy2t6",
        "outputId": "848bcaf6-3e04-490a-8b57-c8531627a758"
      },
      "execution_count": 7,
      "outputs": [
        {
          "output_type": "execute_result",
          "data": {
            "text/plain": [
              "21.0"
            ]
          },
          "metadata": {},
          "execution_count": 7
        }
      ]
    },
    {
      "cell_type": "markdown",
      "source": [
        "## Interseção, união e diferença"
      ],
      "metadata": {
        "id": "yGyCcEzJ1dbW"
      }
    },
    {
      "cell_type": "code",
      "source": [
        "a = (0,1,2,3,4,5,6,7)\n",
        "b = (0,2,4,6,8)"
      ],
      "metadata": {
        "id": "Sg7Co0oCzekB"
      },
      "execution_count": 8,
      "outputs": []
    },
    {
      "cell_type": "markdown",
      "source": [
        "### interseção"
      ],
      "metadata": {
        "id": "fUAamtqe1nco"
      }
    },
    {
      "cell_type": "code",
      "source": [
        "set(a) & set(b)"
      ],
      "metadata": {
        "colab": {
          "base_uri": "https://localhost:8080/"
        },
        "id": "5klImkHs1mnS",
        "outputId": "a988b073-6250-4c09-8852-c07d286432fe"
      },
      "execution_count": 9,
      "outputs": [
        {
          "output_type": "execute_result",
          "data": {
            "text/plain": [
              "{0, 2, 4, 6}"
            ]
          },
          "metadata": {},
          "execution_count": 9
        }
      ]
    },
    {
      "cell_type": "markdown",
      "source": [
        "### união"
      ],
      "metadata": {
        "id": "CG0EOAZs1tfm"
      }
    },
    {
      "cell_type": "code",
      "source": [
        "set (a) | set (b)\n"
      ],
      "metadata": {
        "colab": {
          "base_uri": "https://localhost:8080/"
        },
        "id": "Cala2TXz1siR",
        "outputId": "5455450a-75b7-4a0a-8390-e7e1ab2b280e"
      },
      "execution_count": 10,
      "outputs": [
        {
          "output_type": "execute_result",
          "data": {
            "text/plain": [
              "{0, 1, 2, 3, 4, 5, 6, 7, 8}"
            ]
          },
          "metadata": {},
          "execution_count": 10
        }
      ]
    },
    {
      "cell_type": "markdown",
      "source": [
        "### diferença"
      ],
      "metadata": {
        "id": "8DnC5x8813uU"
      }
    },
    {
      "cell_type": "code",
      "source": [
        "set(a).difference(set(b))"
      ],
      "metadata": {
        "colab": {
          "base_uri": "https://localhost:8080/"
        },
        "id": "RTV0ac_81zDR",
        "outputId": "a298f16a-9496-4508-c76e-3a4648d8b182"
      },
      "execution_count": 11,
      "outputs": [
        {
          "output_type": "execute_result",
          "data": {
            "text/plain": [
              "{1, 3, 5, 7}"
            ]
          },
          "metadata": {},
          "execution_count": 11
        }
      ]
    },
    {
      "cell_type": "code",
      "source": [
        "set(b).difference(set(a))"
      ],
      "metadata": {
        "colab": {
          "base_uri": "https://localhost:8080/"
        },
        "id": "NzVlZPRS1-4y",
        "outputId": "8f880813-cbd5-49f7-affa-1d129ae204c8"
      },
      "execution_count": 12,
      "outputs": [
        {
          "output_type": "execute_result",
          "data": {
            "text/plain": [
              "{8}"
            ]
          },
          "metadata": {},
          "execution_count": 12
        }
      ]
    },
    {
      "cell_type": "markdown",
      "source": [
        "## Eventos Independentes\n",
        "\n",
        "* O resultado de um evento não influencia na resposta de outro evento\n",
        "* Jogar uma moeda 2 vezes (as chances são independentes)\n",
        "* Calcular a probabilidade de obter dois \"coroas\" em duas tentativas\n",
        "* p = 1/2 x 1/2 = 1/4 = 0.25 = 25%"
      ],
      "metadata": {
        "id": "aEGVKv0E2QDK"
      }
    },
    {
      "cell_type": "markdown",
      "source": [
        "## Eventos Dependentes\n",
        "\n",
        "* O resultado do primeiro evento influencia no resultado do segundo evento\n",
        "* Um baralho possui 52 cartas e 13 dessas são de \"espada\"\n",
        "* Qual a probabilidade de tirar 2 cartas de espada?\n",
        "* p = 13/52 * 12/51 = 156/2652 = 0.05 = (5,88%)"
      ],
      "metadata": {
        "id": "5i7QnUCP3Aqx"
      }
    },
    {
      "cell_type": "markdown",
      "source": [
        "## Probabilidade Condicional\n",
        "\n",
        "* Calcular a probabilidade do evento A, dado que o evento B ocorreu\n",
        "* P(a|b) = x, pode ser lido como: \"Dado o evento b, a probabilidade do evento a é x\"\n",
        "* Exemplo\n",
        "  * P(Cárie|Dor) = 0.8, indica que caso um paciente esteja com dor (de dente) e nenhuma outra informação esteja disponível, então, a probabilidade do paciente ter uma cárie é de 0.8"
      ],
      "metadata": {
        "id": "93FcVX8K3gUj"
      }
    },
    {
      "cell_type": "markdown",
      "source": [
        "## Redes Bayesianas\n",
        "\n",
        "* Probabilidade condicional\n",
        "  * P(a|b) = x, pode ser lido como: \"Dado o evento b, a probabilidade do evento a é x\"\n",
        "* Regra fundamental\n",
        "  *P(a|b) = P(a,b)/P(b), ou P(a|b)P(b) = P(a,b).P(a,b) é a probabilidade do evento conjunto do evento a /\\ b\n",
        "* Exemplo 1\n",
        "  * P(Cárie|Dor) = 0.8, indica que caso um paciente esteja com dor (de dente) e nenhuma outra informação esteja disponível, então, a probabilidade do paciente ter uma cárie é de 0.8\n",
        "\n",
        "* Exemplo 2\n",
        "  * Um médico sabe que a meningite causa torcicolo em 50% dos casos. Porém, o médico também conhece algumas probabilidades incondicionais que dizem que, um caso de meningite atinge 1/50000 pessoas e, a probabilidade de alguém ter torcicolo é de 1/20.\"\n",
        "\n",
        "* T e M, é probabilidade incondicional de um paciente ter torcicolo e a probabilidade incondicional de um paciente ter meningite\n",
        "  * P(T|M) = 0.5 (probabilidade de ter torcicolo tendo meningite)\n",
        "  * P(M) = 1/50000\n",
        "  * P(T) = 1/20\n",
        "\n",
        "* Aplicando a fórmula\n",
        "  P(M|T) = (P(T|M)P(M))/P(T) = (0.5 X 1/50000)/(1/20) = 0.0002\n"
      ],
      "metadata": {
        "id": "WRjNSyIZ4QR7"
      }
    },
    {
      "cell_type": "markdown",
      "source": [
        "## Naïve Bayes\n",
        "\n",
        "  * Classificador Ótimo de Bayes\n",
        "\n",
        "    **- Ótimo de Bayes:** características condicionalmente dependentes\n",
        "\n",
        "    **- Naïve Bayes:** características condicionalmente independentes"
      ],
      "metadata": {
        "id": "0Rdi1v3a3S8M"
      }
    },
    {
      "cell_type": "markdown",
      "source": [
        "## PROBABILIDADE - Distribuição Normal"
      ],
      "metadata": {
        "id": "0kJQ37JfAdFw"
      }
    },
    {
      "cell_type": "code",
      "source": [
        "dados = np.array([126. , 129.5, 133. , 133. , 136.5, 136.5, 140. , 140. , 140. ,\n",
        "                   140. , 143.5, 143.5, 143.5, 143.5, 143.5, 147. , 147. ,\n",
        "                   147. , 147. , 147. , 147. , 147. , 150.5, 150.5,  150.5, 150.5,\n",
        "                   150.5, 150.5, 150.5, 150.5, 154. , 154. , 154. , 154. , 154. ,\n",
        "                   154. , 154. , 154. , 154. , 157.5, 157.5, 157.5, 157.5, 157.5,\n",
        "                   157.5, 157.5, 157.5, 157.5, 157.5, 161. , 161. , 161. , 161. ,\n",
        "                   161. , 161. , 161. , 161. , 161. , 161. , 164.5, 164.5, 164.5,\n",
        "                   164.5, 164.5, 164.5, 164.5, 164.5, 164.5, 168. , 168. , 168. ,\n",
        "                   168. , 168. , 168. , 168. , 168. , 171.5, 171.5, 171.5, 171.5,\n",
        "                   171.5, 171.5, 171.5, 175. , 175. , 175. , 175. , 175. , 175. ,\n",
        "                   178.5, 178.5, 178.5, 178.5, 182. , 182. , 185.5, 185.5, 189. , 192.5])"
      ],
      "metadata": {
        "id": "1izV_RbN2DuJ"
      },
      "execution_count": 13,
      "outputs": []
    },
    {
      "cell_type": "code",
      "source": [
        "sns.distplot(dados);"
      ],
      "metadata": {
        "colab": {
          "base_uri": "https://localhost:8080/",
          "height": 320
        },
        "id": "6I1TRZpyDa2z",
        "outputId": "2a025f20-00e5-403b-b048-87149597ecdd"
      },
      "execution_count": 14,
      "outputs": [
        {
          "output_type": "stream",
          "name": "stderr",
          "text": [
            "/usr/local/lib/python3.8/dist-packages/seaborn/distributions.py:2619: FutureWarning: `distplot` is a deprecated function and will be removed in a future version. Please adapt your code to use either `displot` (a figure-level function with similar flexibility) or `histplot` (an axes-level function for histograms).\n",
            "  warnings.warn(msg, FutureWarning)\n"
          ]
        },
        {
          "output_type": "display_data",
          "data": {
            "text/plain": [
              "<Figure size 432x288 with 1 Axes>"
            ],
            "image/png": "[encoded data removed]"
          },
          "metadata": {
            "needs_background": "light"
          }
        }
      ]
    },
    {
      "cell_type": "code",
      "source": [
        "media = np.mean(dados)\n",
        "desvio_padrao = np.std(dados)\n",
        "media, desvio_padrao"
      ],
      "metadata": {
        "colab": {
          "base_uri": "https://localhost:8080/"
        },
        "id": "KQV1SYdIDeIT",
        "outputId": "bb83b737-15a5-4d86-b679-620e2a06f1ea"
      },
      "execution_count": 15,
      "outputs": [
        {
          "output_type": "execute_result",
          "data": {
            "text/plain": [
              "(159.4090909090909, 13.626208339777)"
            ]
          },
          "metadata": {},
          "execution_count": 15
        }
      ]
    },
    {
      "cell_type": "code",
      "source": [
        "np.quantile(dados, [0.25, 0.5, 0.75])"
      ],
      "metadata": {
        "colab": {
          "base_uri": "https://localhost:8080/"
        },
        "id": "cdsQ72p1EEMz",
        "outputId": "6b621496-277d-41d0-b51f-3c7777924275"
      },
      "execution_count": 16,
      "outputs": [
        {
          "output_type": "execute_result",
          "data": {
            "text/plain": [
              "array([150.5, 161. , 168. ])"
            ]
          },
          "metadata": {},
          "execution_count": 16
        }
      ]
    },
    {
      "cell_type": "markdown",
      "source": [
        "### Exercício 01\n",
        "\n",
        "  *  Uma empresa fez um concurso para seleção de novos funcionários. A prova tinha 50 questões e o Pedro acertou 40 questões. Considerando uma distribuição normal com média 24 e desvio padrão de 8, quais são as chances dele ser contratado?"
      ],
      "metadata": {
        "id": "guhDGzCo1JCd"
      }
    },
    {
      "cell_type": "code",
      "source": [
        "X = 40\n",
        "media = 24\n",
        "desvio_padrao = 8"
      ],
      "metadata": {
        "id": "eP8Nv2BfERAq"
      },
      "execution_count": 17,
      "outputs": []
    },
    {
      "cell_type": "code",
      "source": [
        "padronizado = (X - media) / desvio_padrao\n",
        "padronizado"
      ],
      "metadata": {
        "id": "YrT6wDqp2VTO",
        "outputId": "6f96f229-0da3-4faa-b841-315260d9a07d",
        "colab": {
          "base_uri": "https://localhost:8080/"
        }
      },
      "execution_count": 18,
      "outputs": [
        {
          "output_type": "execute_result",
          "data": {
            "text/plain": [
              "2.0"
            ]
          },
          "metadata": {},
          "execution_count": 18
        }
      ]
    },
    {
      "cell_type": "code",
      "source": [
        "0.99725"
      ],
      "metadata": {
        "id": "MmP0Yt8S2eSd",
        "outputId": "9348e7fd-d518-475b-a96b-9438ddbbf01e",
        "colab": {
          "base_uri": "https://localhost:8080/"
        }
      },
      "execution_count": 19,
      "outputs": [
        {
          "output_type": "execute_result",
          "data": {
            "text/plain": [
              "0.99725"
            ]
          },
          "metadata": {},
          "execution_count": 19
        }
      ]
    },
    {
      "cell_type": "code",
      "source": [
        "stats.norm.cdf(padronizado)"
      ],
      "metadata": {
        "id": "VJ6NoTIM2hVC",
        "outputId": "4caea847-d328-425a-b65b-538d4a7aa102",
        "colab": {
          "base_uri": "https://localhost:8080/"
        }
      },
      "execution_count": 21,
      "outputs": [
        {
          "output_type": "execute_result",
          "data": {
            "text/plain": [
              "0.9772498680518208"
            ]
          },
          "metadata": {},
          "execution_count": 21
        }
      ]
    },
    {
      "cell_type": "code",
      "source": [
        "stats.norm.ppf(0.9772498680518208)"
      ],
      "metadata": {
        "id": "FnEBBktw21xO",
        "outputId": "076138bc-5830-4d5d-9571-612da5c31319",
        "colab": {
          "base_uri": "https://localhost:8080/"
        }
      },
      "execution_count": 24,
      "outputs": [
        {
          "output_type": "execute_result",
          "data": {
            "text/plain": [
              "2.0000000000000004"
            ]
          },
          "metadata": {},
          "execution_count": 24
        }
      ]
    },
    {
      "cell_type": "code",
      "source": [
        "stats.norm.cdf(X, media, desvio_padrao)"
      ],
      "metadata": {
        "id": "F2J-i1Ia2liX",
        "outputId": "218cc55c-2ad3-4611-a312-146b68701946",
        "colab": {
          "base_uri": "https://localhost:8080/"
        }
      },
      "execution_count": 22,
      "outputs": [
        {
          "output_type": "execute_result",
          "data": {
            "text/plain": [
              "0.9772498680518208"
            ]
          },
          "metadata": {},
          "execution_count": 22
        }
      ]
    },
    {
      "cell_type": "markdown",
      "source": [
        "### Exercício 02\n",
        "\n",
        "  * A vida útil de uma marca de pneus é representada por uma distribuição normal com média de 38.000 km e desvio padrão de 3.000 km. \n",
        "  1. Qual a probabilidade de que um pneu escolhido aleatoriamente tenha vida útil de 35.000 km?\n",
        "  2. Qual a probabilidade de que ele dure mais do que 44.000 km?"
      ],
      "metadata": {
        "id": "W2iUo2_F1h2K"
      }
    },
    {
      "cell_type": "markdown",
      "source": [
        "#### Questão 01"
      ],
      "metadata": {
        "id": "iBroX66g3j8H"
      }
    },
    {
      "cell_type": "code",
      "source": [
        "1 - stats.norm.cdf(35000, 38000, 3000)"
      ],
      "metadata": {
        "id": "9uYGfXt83jCz",
        "outputId": "b7ba1ebc-3848-4078-9a44-ddcf57fc49ef",
        "colab": {
          "base_uri": "https://localhost:8080/"
        }
      },
      "execution_count": 26,
      "outputs": [
        {
          "output_type": "execute_result",
          "data": {
            "text/plain": [
              "0.8413447460685429"
            ]
          },
          "metadata": {},
          "execution_count": 26
        }
      ]
    },
    {
      "cell_type": "code",
      "source": [
        "stats.norm.sf(35000, 38000, 3000)"
      ],
      "metadata": {
        "id": "DPZgQq0xE3ws",
        "outputId": "0bf8ce91-6636-492c-8e32-0218749ff7c6",
        "colab": {
          "base_uri": "https://localhost:8080/"
        }
      },
      "execution_count": 27,
      "outputs": [
        {
          "output_type": "execute_result",
          "data": {
            "text/plain": [
              "0.8413447460685429"
            ]
          },
          "metadata": {},
          "execution_count": 27
        }
      ]
    },
    {
      "cell_type": "markdown",
      "source": [
        "#### Questão 02"
      ],
      "metadata": {
        "id": "kwTbpfMs37M0"
      }
    },
    {
      "cell_type": "code",
      "source": [
        "1 - stats.norm.cdf(44000, 38000, 3000)"
      ],
      "metadata": {
        "id": "pGIb_sDw320G",
        "outputId": "bebf55b5-51e5-494b-fcaf-f03664f6d699",
        "colab": {
          "base_uri": "https://localhost:8080/"
        }
      },
      "execution_count": 28,
      "outputs": [
        {
          "output_type": "execute_result",
          "data": {
            "text/plain": [
              "0.02275013194817921"
            ]
          },
          "metadata": {},
          "execution_count": 28
        }
      ]
    },
    {
      "cell_type": "code",
      "source": [
        "stats.norm.sf(44000, 38000, 3000)"
      ],
      "metadata": {
        "id": "nFET0kwA4Az1",
        "outputId": "2c666b55-a31a-4bcb-87ef-4746bf1ce4f7",
        "colab": {
          "base_uri": "https://localhost:8080/"
        }
      },
      "execution_count": 29,
      "outputs": [
        {
          "output_type": "execute_result",
          "data": {
            "text/plain": [
              "0.022750131948179195"
            ]
          },
          "metadata": {},
          "execution_count": 29
        }
      ]
    },
    {
      "cell_type": "markdown",
      "source": [
        "## PROBABILIDADE - Distribuição Binomial\n",
        "\n",
        "* Respostas sucesso ou fracasso e experimentos independentes\n",
        "* Probabilidade de selecionar \"coroa\" 5 vezes\n",
        "  * X = 5 (número de sucessos)\n",
        "  * p = 0,5 (probabilidade de sucesso)\n",
        "  * n = 10 (quantidade de tentativas - trials)"
      ],
      "metadata": {
        "id": "mIutiedm4qwv"
      }
    },
    {
      "cell_type": "code",
      "source": [
        "n = 10\n",
        "x = 5\n",
        "p = 0.5"
      ],
      "metadata": {
        "id": "JnnPW_8w4EB2"
      },
      "execution_count": 30,
      "outputs": []
    },
    {
      "cell_type": "code",
      "source": [
        "import math\n",
        "(math.factorial(n)) / (math.factorial(x) * math.factorial(n - x)) * math.pow(p, x) * math.pow(1-p, n-x)"
      ],
      "metadata": {
        "id": "svNmDRSt6Pwn",
        "outputId": "97a4790e-35ca-498c-fd2e-2ca3ecbc5e8b",
        "colab": {
          "base_uri": "https://localhost:8080/"
        }
      },
      "execution_count": 31,
      "outputs": [
        {
          "output_type": "execute_result",
          "data": {
            "text/plain": [
              "0.24609375"
            ]
          },
          "metadata": {},
          "execution_count": 31
        }
      ]
    },
    {
      "cell_type": "code",
      "source": [
        "stats.binom.pmf(x, n, p)"
      ],
      "metadata": {
        "id": "I6mlvZIu6pg_",
        "outputId": "2bfb4499-d258-4b16-e6cf-399f1fbc26e2",
        "colab": {
          "base_uri": "https://localhost:8080/"
        }
      },
      "execution_count": 32,
      "outputs": [
        {
          "output_type": "execute_result",
          "data": {
            "text/plain": [
              "0.24609375000000003"
            ]
          },
          "metadata": {},
          "execution_count": 32
        }
      ]
    },
    {
      "cell_type": "markdown",
      "source": [
        "### Exercício 1\n",
        "\n",
        "  * 70% das pessoas que compraram o livro de Python são mulheres. Se 10 leitores forem selecionados randomicamente, qual a probabilidade de selecionarmos 7 mulheres?"
      ],
      "metadata": {
        "id": "dM80aBQT7BIg"
      }
    },
    {
      "cell_type": "markdown",
      "source": [
        "### Exercício 2\n",
        "\n",
        "  * Em uma linha de produção de uma fábrica de parafusos, a probabilidade de obter um parafuso defeituoso é de 0,05. Tendo uma amostra de 50 peças, qual a probabilidade de obter\n",
        "  1. Um parafuso defeituoso\n",
        "  2. Nenhum parafuso defeituoso"
      ],
      "metadata": {
        "id": "OiPIO9QF-3B-"
      }
    },
    {
      "cell_type": "code",
      "source": [
        "n = 10\n",
        "x = 7\n",
        "p = 0.7"
      ],
      "metadata": {
        "id": "LrmCTf4u68G1"
      },
      "execution_count": 33,
      "outputs": []
    },
    {
      "cell_type": "code",
      "source": [
        "stats.binom.pmf(x, n, p)"
      ],
      "metadata": {
        "id": "6BuWZYYL77KO",
        "outputId": "d015a09a-d3d9-48d1-c1cb-a8a4e99fe3d1",
        "colab": {
          "base_uri": "https://localhost:8080/"
        }
      },
      "execution_count": 34,
      "outputs": [
        {
          "output_type": "execute_result",
          "data": {
            "text/plain": [
              "0.26682793200000005"
            ]
          },
          "metadata": {},
          "execution_count": 34
        }
      ]
    },
    {
      "cell_type": "code",
      "source": [
        "# parafuso defeituoso\n",
        "n = 50\n",
        "x = 1\n",
        "p = 0.05\n",
        "\n",
        "stats.binom.pmf(x, n, p)"
      ],
      "metadata": {
        "id": "ckWb26Ue7uRG",
        "outputId": "d6eb7d5b-b058-4ea8-c13c-29d8d249a152",
        "colab": {
          "base_uri": "https://localhost:8080/"
        }
      },
      "execution_count": 35,
      "outputs": [
        {
          "output_type": "execute_result",
          "data": {
            "text/plain": [
              "0.2024867770439825"
            ]
          },
          "metadata": {},
          "execution_count": 35
        }
      ]
    },
    {
      "cell_type": "code",
      "source": [
        "# nenhum parafuso defeituoso\n",
        "\n",
        "n = 50\n",
        "x = 0\n",
        "p = 0.05\n",
        "\n",
        "stats.binom.pmf(x, n, p)"
      ],
      "metadata": {
        "id": "JlRTJ3oR8UaN",
        "outputId": "1dc84ca0-9985-4df7-e39e-e55f5fb270bc",
        "colab": {
          "base_uri": "https://localhost:8080/"
        }
      },
      "execution_count": 36,
      "outputs": [
        {
          "output_type": "execute_result",
          "data": {
            "text/plain": [
              "0.07694497527671315"
            ]
          },
          "metadata": {},
          "execution_count": 36
        }
      ]
    },
    {
      "cell_type": "markdown",
      "source": [
        "## PROBABILIDADE - Distribuição de Poisson\n",
        "\n",
        "  * Ocorrência de eventos no decorrer do tempo (não considera o número de experimentos)\n",
        "  * Os eventos devem ser independentes\n",
        "  * Considera o número de \"sucessos\" baseado no tempo\n",
        "  * Parâmetros da fórmula\n",
        "    * X: número de eventos calculados\n",
        "    * Número de Euler (2.71828)\n",
        "    * Número médio de eventos\n"
      ],
      "metadata": {
        "id": "OCAOSz948rLe"
      }
    },
    {
      "cell_type": "markdown",
      "source": [
        "### Exemplo dos carros\n",
        "\n",
        "  * O número médio de carros vendidos por dia é 10. Qual a probabilidade de vender 14 carros amanhã?"
      ],
      "metadata": {
        "id": "jYhqQXC09unO"
      }
    },
    {
      "cell_type": "code",
      "source": [
        "x = 14\n",
        "media = 10"
      ],
      "metadata": {
        "id": "Z1yIVLaj8d5V"
      },
      "execution_count": 37,
      "outputs": []
    },
    {
      "cell_type": "code",
      "source": [
        "math.e"
      ],
      "metadata": {
        "id": "DPeo5Kyp9-wN",
        "outputId": "ba04455e-f20d-4535-e911-43dfa55caf76",
        "colab": {
          "base_uri": "https://localhost:8080/"
        }
      },
      "execution_count": 38,
      "outputs": [
        {
          "output_type": "execute_result",
          "data": {
            "text/plain": [
              "2.718281828459045"
            ]
          },
          "metadata": {},
          "execution_count": 38
        }
      ]
    },
    {
      "cell_type": "code",
      "source": [
        "math.pow(math.e, -media) * (math.pow(media, x) / math.factorial(x)) * 100"
      ],
      "metadata": {
        "id": "KHQkxMRn9_tc",
        "outputId": "8ae092bb-4ffa-4b88-c57b-bb0ed229dcdf",
        "colab": {
          "base_uri": "https://localhost:8080/"
        }
      },
      "execution_count": 39,
      "outputs": [
        {
          "output_type": "execute_result",
          "data": {
            "text/plain": [
              "5.207710444602621"
            ]
          },
          "metadata": {},
          "execution_count": 39
        }
      ]
    },
    {
      "cell_type": "code",
      "source": [
        "stats.poisson.pmf(x, media)"
      ],
      "metadata": {
        "id": "YW3OznV--KHT",
        "outputId": "6a810e81-a997-4268-a70e-32a7a9c5f69c",
        "colab": {
          "base_uri": "https://localhost:8080/"
        }
      },
      "execution_count": 40,
      "outputs": [
        {
          "output_type": "execute_result",
          "data": {
            "text/plain": [
              "0.05207710444602615"
            ]
          },
          "metadata": {},
          "execution_count": 40
        }
      ]
    },
    {
      "cell_type": "markdown",
      "source": [
        "### Exercício 1\n",
        "\n",
        "  * Em uma linha de produção de uma fábrica de parafusos, a probabilidade de obter um parafuso defeituoso é de 0,05 por UNIDADE. Qual a probabilidade de uma unidade apresentar:\n",
        "  1. Um defeito\n",
        "  2. Nenhum defeito"
      ],
      "metadata": {
        "id": "C0frb3X77ZMq"
      }
    },
    {
      "cell_type": "markdown",
      "source": [
        "#### Questão 01"
      ],
      "metadata": {
        "id": "7XBuQIzZ-pOp"
      }
    },
    {
      "cell_type": "code",
      "source": [
        "x = 1\n",
        "media = 0.05"
      ],
      "metadata": {
        "id": "bvjIm238-iD0"
      },
      "execution_count": 41,
      "outputs": []
    },
    {
      "cell_type": "code",
      "source": [
        "stats.poisson.pmf(x, media) * 100"
      ],
      "metadata": {
        "id": "_cpdHK7Z_Q3c",
        "outputId": "ed6a0783-7741-4250-82af-778d4c61b911",
        "colab": {
          "base_uri": "https://localhost:8080/"
        }
      },
      "execution_count": 43,
      "outputs": [
        {
          "output_type": "execute_result",
          "data": {
            "text/plain": [
              "4.756147122503571"
            ]
          },
          "metadata": {},
          "execution_count": 43
        }
      ]
    },
    {
      "cell_type": "markdown",
      "source": [
        "#### Questão 2"
      ],
      "metadata": {
        "id": "LLb8YmP8_ZqO"
      }
    },
    {
      "cell_type": "code",
      "source": [
        "x = 0\n",
        "media = 0.05\n",
        "\n",
        "stats.poisson.pmf(x, media) * 100"
      ],
      "metadata": {
        "id": "bQ7ifYkX_Uub",
        "outputId": "96c19a8d-3262-4a23-ce74-6c41e329412a",
        "colab": {
          "base_uri": "https://localhost:8080/"
        }
      },
      "execution_count": 44,
      "outputs": [
        {
          "output_type": "execute_result",
          "data": {
            "text/plain": [
              "95.1229424500714"
            ]
          },
          "metadata": {},
          "execution_count": 44
        }
      ]
    },
    {
      "cell_type": "markdown",
      "source": [
        "### Exercício 2\n",
        "\n",
        "  * Um vendedor de uma loja vende em média 50 produtos por dia. Qual a probabilidade de vender somente 5 produtos no próximo dia?"
      ],
      "metadata": {
        "id": "OdNuJuUM_kFz"
      }
    },
    {
      "cell_type": "code",
      "source": [
        "x = 5\n",
        "media = 50"
      ],
      "metadata": {
        "id": "Jn3hRpdb_jZl"
      },
      "execution_count": 45,
      "outputs": []
    },
    {
      "cell_type": "code",
      "source": [
        "stats.poisson.pmf(x, media)"
      ],
      "metadata": {
        "id": "dF0qozDy_fjT",
        "outputId": "fff14d2f-6551-41ca-a467-1acc879911d6",
        "colab": {
          "base_uri": "https://localhost:8080/"
        }
      },
      "execution_count": 46,
      "outputs": [
        {
          "output_type": "execute_result",
          "data": {
            "text/plain": [
              "5.02278606240605e-16"
            ]
          },
          "metadata": {},
          "execution_count": 46
        }
      ]
    },
    {
      "cell_type": "code",
      "source": [],
      "metadata": {
        "id": "BQNZz7IZ_zm3"
      },
      "execution_count": null,
      "outputs": []
    }
  ]
}