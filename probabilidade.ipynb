{
  "nbformat": 4,
  "nbformat_minor": 0,
  "metadata": {
    "colab": {
      "provenance": [],
      "mount_file_id": "https://github.com/lari-guimaraes/Estudos_machine_learning/blob/main/probabilidade.ipynb",
      "authorship_tag": "ABX9TyN6zrDKzLrzfoXP/jI7XcOz",
      "include_colab_link": true
    },
    "kernelspec": {
      "name": "python3",
      "display_name": "Python 3"
    },
    "language_info": {
      "name": "python"
    }
  },
  "cells": [
    {
      "cell_type": "markdown",
      "metadata": {
        "id": "view-in-github",
        "colab_type": "text"
      },
      "source": [
        "<a href=\"https://colab.research.google.com/github/lari-guimaraes/Estudos_machine_learning/blob/main/probabilidade.ipynb\" target=\"_parent\"><img src=\"https://colab.research.google.com/assets/colab-badge.svg\" alt=\"Open In Colab\"/></a>"
      ]
    },
    {
      "cell_type": "markdown",
      "source": [
        "# Probabilidade\n",
        "\n",
        "* São as chances de um evento ocorrer\n",
        "* Representado com números entre 0 e 1\n",
        "* Probabilidade de jogar uma moeda (1/2 = 0.5 = 50%)\n",
        "* O ato de jogar a moeda é chamado de tentativa (trial) - experimento\n",
        "* Cada jogada da moeda é independente da outra\n"
      ],
      "metadata": {
        "id": "bXMu4HBbudUZ"
      }
    },
    {
      "cell_type": "markdown",
      "source": [
        "## Experimento, evento e espaço amostral\n",
        "\n",
        "  * Cada tentativa de jogar a moeda é chamado de um **experimento**\n",
        "  * Cada resultado (cara ou coroa) é chamado de **evento**\n",
        "  * A soma de todos os possíveis eventos é chamado de **espaço amostral**\n",
        "  * Exemplo - dados\n",
        "    * Cada \"Jogada\" é um experimento\n",
        "    * Eventos: 1, 2, 3, 4, 5, 6\n",
        "    * Espaço amostral: {E1, E2, E3,E4,E5,E6}"
      ],
      "metadata": {
        "id": "O7OWZllJu9EU"
      }
    },
    {
      "cell_type": "markdown",
      "source": [
        "## Importações"
      ],
      "metadata": {
        "id": "PG-eH-C7wmo9"
      }
    },
    {
      "cell_type": "code",
      "source": [
        "import numpy as np\n",
        "from scipy import stats\n",
        "import seaborn as sns"
      ],
      "metadata": {
        "id": "zBl7t4FEwonC"
      },
      "execution_count": 1,
      "outputs": []
    },
    {
      "cell_type": "markdown",
      "source": [
        "## Permutação\n",
        "\n",
        "* Arranjar objetos em uma sequência\n",
        "* Quais são as permutações possíveis para as letras A, B e C?\n",
        "* Fatorial!\n",
        "* 3! = 3 x 2 x 1 = 6 (permutações)\n"
      ],
      "metadata": {
        "id": "It78rk5kwK82"
      }
    },
    {
      "cell_type": "code",
      "source": [
        "import math"
      ],
      "metadata": {
        "id": "rmGJNXS4wktL"
      },
      "execution_count": 2,
      "outputs": []
    },
    {
      "cell_type": "code",
      "source": [
        "math.factorial(3)"
      ],
      "metadata": {
        "colab": {
          "base_uri": "https://localhost:8080/"
        },
        "id": "icot7hhJu8dA",
        "outputId": "da474462-942b-44fa-e07a-30e69b44c806"
      },
      "execution_count": 3,
      "outputs": [
        {
          "output_type": "execute_result",
          "data": {
            "text/plain": [
              "6"
            ]
          },
          "metadata": {},
          "execution_count": 3
        }
      ]
    },
    {
      "cell_type": "markdown",
      "source": [
        "### Permutação para subconjuntos\n",
        "\n",
        "* Criar uma senha com 5 caracteres, que pode ser composto por letras e números de 0 até 9\n",
        "* Números e letras não podem ser repetidos\n",
        "* Evento: 5 caracteres\n",
        "* Espaço amostral: 26 letras + 10 digitos = 36"
      ],
      "metadata": {
        "id": "NC31HR3aw7Iy"
      }
    },
    {
      "cell_type": "code",
      "source": [
        "math.factorial(36)/math.factorial(36-5)"
      ],
      "metadata": {
        "colab": {
          "base_uri": "https://localhost:8080/"
        },
        "id": "bezXCg6Qw2r5",
        "outputId": "22579a0c-5beb-4cfe-921c-14388ff487e0"
      },
      "execution_count": 4,
      "outputs": [
        {
          "output_type": "execute_result",
          "data": {
            "text/plain": [
              "45239040.0"
            ]
          },
          "metadata": {},
          "execution_count": 4
        }
      ]
    },
    {
      "cell_type": "markdown",
      "source": [
        "* Criar uma senha com 5 caracteres, que pode ser composto por letras e números de 0 até 9\n",
        "* Números e letras PODEM ser repetidos\n",
        "* Evento: 5 caracteres\n",
        "* Espaço amostral: 26 letras + 10 digitos = 36\n",
        "* n^r = 36^5 = 60.466.176"
      ],
      "metadata": {
        "id": "cxr3Vgmyxf8H"
      }
    },
    {
      "cell_type": "code",
      "source": [
        "math.pow(36, 5)"
      ],
      "metadata": {
        "colab": {
          "base_uri": "https://localhost:8080/"
        },
        "id": "jj2LlRkzxd28",
        "outputId": "97567e70-430c-4b40-bcae-868c0dd54e7d"
      },
      "execution_count": 5,
      "outputs": [
        {
          "output_type": "execute_result",
          "data": {
            "text/plain": [
              "60466176.0"
            ]
          },
          "metadata": {},
          "execution_count": 5
        }
      ]
    },
    {
      "cell_type": "markdown",
      "source": [
        "## Combinação\n",
        "\n",
        "* Número possível de arranjos em uma coleção (a ordem não importa como na permutação)\n",
        "* Quantas combinações de 2 letras podem ser feitas com ABCDEF?\n",
        "* Sem considerar repetições\n",
        "* C = n!/r!(n - r)!"
      ],
      "metadata": {
        "id": "h1-K0xcCyQbk"
      }
    },
    {
      "cell_type": "code",
      "source": [
        "math.factorial(6)/(math.factorial(2) * math.factorial(6-2))"
      ],
      "metadata": {
        "colab": {
          "base_uri": "https://localhost:8080/"
        },
        "id": "8M-O4R6Sx5Aa",
        "outputId": "98f6618f-828a-413e-eb39-358e8b6b5c7d"
      },
      "execution_count": 6,
      "outputs": [
        {
          "output_type": "execute_result",
          "data": {
            "text/plain": [
              "15.0"
            ]
          },
          "metadata": {},
          "execution_count": 6
        }
      ]
    },
    {
      "cell_type": "markdown",
      "source": [
        "* Considerando repetições\n",
        "* C = (n+r - 1)!/r!(n-1)!"
      ],
      "metadata": {
        "id": "r7mCROjYy-ux"
      }
    },
    {
      "cell_type": "code",
      "source": [
        "math.factorial(6+2-1)/(math.factorial(2)*math.factorial(6-1))"
      ],
      "metadata": {
        "colab": {
          "base_uri": "https://localhost:8080/"
        },
        "id": "Ywn-qD9Cy2t6",
        "outputId": "091abbf2-d31c-4785-d68a-8d73bb9eddaf"
      },
      "execution_count": 7,
      "outputs": [
        {
          "output_type": "execute_result",
          "data": {
            "text/plain": [
              "21.0"
            ]
          },
          "metadata": {},
          "execution_count": 7
        }
      ]
    },
    {
      "cell_type": "markdown",
      "source": [
        "## Interseção, união e diferença"
      ],
      "metadata": {
        "id": "yGyCcEzJ1dbW"
      }
    },
    {
      "cell_type": "code",
      "source": [
        "a = (0,1,2,3,4,5,6,7)\n",
        "b = (0,2,4,6,8)"
      ],
      "metadata": {
        "id": "Sg7Co0oCzekB"
      },
      "execution_count": 8,
      "outputs": []
    },
    {
      "cell_type": "markdown",
      "source": [
        "### interseção"
      ],
      "metadata": {
        "id": "fUAamtqe1nco"
      }
    },
    {
      "cell_type": "code",
      "source": [
        "set(a) & set(b)"
      ],
      "metadata": {
        "colab": {
          "base_uri": "https://localhost:8080/"
        },
        "id": "5klImkHs1mnS",
        "outputId": "a309f5ed-2193-495c-93ba-a93b21ed39e6"
      },
      "execution_count": 9,
      "outputs": [
        {
          "output_type": "execute_result",
          "data": {
            "text/plain": [
              "{0, 2, 4, 6}"
            ]
          },
          "metadata": {},
          "execution_count": 9
        }
      ]
    },
    {
      "cell_type": "markdown",
      "source": [
        "### união"
      ],
      "metadata": {
        "id": "CG0EOAZs1tfm"
      }
    },
    {
      "cell_type": "code",
      "source": [
        "set (a) | set (b)\n"
      ],
      "metadata": {
        "colab": {
          "base_uri": "https://localhost:8080/"
        },
        "id": "Cala2TXz1siR",
        "outputId": "a68b1ecf-a518-4a37-ea6b-e740b1e2f5a8"
      },
      "execution_count": 10,
      "outputs": [
        {
          "output_type": "execute_result",
          "data": {
            "text/plain": [
              "{0, 1, 2, 3, 4, 5, 6, 7, 8}"
            ]
          },
          "metadata": {},
          "execution_count": 10
        }
      ]
    },
    {
      "cell_type": "markdown",
      "source": [
        "### diferença"
      ],
      "metadata": {
        "id": "8DnC5x8813uU"
      }
    },
    {
      "cell_type": "code",
      "source": [
        "set(a).difference(set(b))"
      ],
      "metadata": {
        "colab": {
          "base_uri": "https://localhost:8080/"
        },
        "id": "RTV0ac_81zDR",
        "outputId": "0833c74a-b9d6-4841-bd11-4182bb9e1d6c"
      },
      "execution_count": 11,
      "outputs": [
        {
          "output_type": "execute_result",
          "data": {
            "text/plain": [
              "{1, 3, 5, 7}"
            ]
          },
          "metadata": {},
          "execution_count": 11
        }
      ]
    },
    {
      "cell_type": "code",
      "source": [
        "set(b).difference(set(a))"
      ],
      "metadata": {
        "colab": {
          "base_uri": "https://localhost:8080/"
        },
        "id": "NzVlZPRS1-4y",
        "outputId": "48aa1d5e-7f8b-46e3-dd09-17c044dbdcb0"
      },
      "execution_count": 12,
      "outputs": [
        {
          "output_type": "execute_result",
          "data": {
            "text/plain": [
              "{8}"
            ]
          },
          "metadata": {},
          "execution_count": 12
        }
      ]
    },
    {
      "cell_type": "markdown",
      "source": [
        "## Eventos Independentes\n",
        "\n",
        "* O resultado de um evento não influencia na resposta de outro evento\n",
        "* Jogar uma moeda 2 vezes (as chances são independentes)\n",
        "* Calcular a probabilidade de obter dois \"coroas\" em duas tentativas\n",
        "* p = 1/2 x 1/2 = 1/4 = 0.25 = 25%"
      ],
      "metadata": {
        "id": "aEGVKv0E2QDK"
      }
    },
    {
      "cell_type": "markdown",
      "source": [
        "## Eventos Dependentes\n",
        "\n",
        "* O resultado do primeiro evento influencia no resultado do segundo evento\n",
        "* Um baralho possui 52 cartas e 13 dessas são de \"espada\"\n",
        "* Qual a probabilidade de tirar 2 cartas de espada?\n",
        "* p = 13/52 * 12/51 = 156/2652 = 0.05 = (5,88%)"
      ],
      "metadata": {
        "id": "5i7QnUCP3Aqx"
      }
    },
    {
      "cell_type": "markdown",
      "source": [
        "## Probabilidade Condicional\n",
        "\n",
        "* Calcular a probabilidade do evento A, dado que o evento B ocorreu\n",
        "* P(a|b) = x, pode ser lido como: \"Dado o evento b, a probabilidade do evento a é x\"\n",
        "* Exemplo\n",
        "  * P(Cárie|Dor) = 0.8, indica que caso um paciente esteja com dor (de dente) e nenhuma outra informação esteja disponível, então, a probabilidade do paciente ter uma cárie é de 0.8"
      ],
      "metadata": {
        "id": "93FcVX8K3gUj"
      }
    },
    {
      "cell_type": "markdown",
      "source": [
        "## Redes Bayesianas\n",
        "\n",
        "* Probabilidade condicional\n",
        "  * P(a|b) = x, pode ser lido como: \"Dado o evento b, a probabilidade do evento a é x\"\n",
        "* Regra fundamental\n",
        "  *P(a|b) = P(a,b)/P(b), ou P(a|b)P(b) = P(a,b).P(a,b) é a probabilidade do evento conjunto do evento a /\\ b\n",
        "* Exemplo 1\n",
        "  * P(Cárie|Dor) = 0.8, indica que caso um paciente esteja com dor (de dente) e nenhuma outra informação esteja disponível, então, a probabilidade do paciente ter uma cárie é de 0.8\n",
        "\n",
        "* Exemplo 2\n",
        "  * Um médico sabe que a meningite causa torcicolo em 50% dos casos. Porém, o médico também conhece algumas probabilidades incondicionais que dizem que, um caso de meningite atinge 1/50000 pessoas e, a probabilidade de alguém ter torcicolo é de 1/20.\"\n",
        "\n",
        "* T e M, é probabilidade incondicional de um paciente ter torcicolo e a probabilidade incondicional de um paciente ter meningite\n",
        "  * P(T|M) = 0.5 (probabilidade de ter torcicolo tendo meningite)\n",
        "  * P(M) = 1/50000\n",
        "  * P(T) = 1/20\n",
        "\n",
        "* Aplicando a fórmula\n",
        "  P(M|T) = (P(T|M)P(M))/P(T) = (0.5 X 1/50000)/(1/20) = 0.0002\n"
      ],
      "metadata": {
        "id": "WRjNSyIZ4QR7"
      }
    },
    {
      "cell_type": "markdown",
      "source": [
        "## Naïve Bayes\n",
        "\n",
        "  * Classificador Ótimo de Bayes\n",
        "\n",
        "    **- Ótimo de Bayes:** características condicionalmente dependentes\n",
        "\n",
        "    **- Naïve Bayes:** características condicionalmente independentes"
      ],
      "metadata": {
        "id": "0Rdi1v3a3S8M"
      }
    },
    {
      "cell_type": "markdown",
      "source": [
        "## PROBABILIDADE - Distribuição Normal"
      ],
      "metadata": {
        "id": "0kJQ37JfAdFw"
      }
    },
    {
      "cell_type": "code",
      "source": [
        "dados = np.array([126. , 129.5, 133. , 133. , 136.5, 136.5, 140. , 140. , 140. ,\n",
        "                   140. , 143.5, 143.5, 143.5, 143.5, 143.5, 147. , 147. ,\n",
        "                   147. , 147. , 147. , 147. , 147. , 150.5, 150.5,  150.5, 150.5,\n",
        "                   150.5, 150.5, 150.5, 150.5, 154. , 154. , 154. , 154. , 154. ,\n",
        "                   154. , 154. , 154. , 154. , 157.5, 157.5, 157.5, 157.5, 157.5,\n",
        "                   157.5, 157.5, 157.5, 157.5, 157.5, 161. , 161. , 161. , 161. ,\n",
        "                   161. , 161. , 161. , 161. , 161. , 161. , 164.5, 164.5, 164.5,\n",
        "                   164.5, 164.5, 164.5, 164.5, 164.5, 164.5, 168. , 168. , 168. ,\n",
        "                   168. , 168. , 168. , 168. , 168. , 171.5, 171.5, 171.5, 171.5,\n",
        "                   171.5, 171.5, 171.5, 175. , 175. , 175. , 175. , 175. , 175. ,\n",
        "                   178.5, 178.5, 178.5, 178.5, 182. , 182. , 185.5, 185.5, 189. , 192.5])"
      ],
      "metadata": {
        "id": "1izV_RbN2DuJ"
      },
      "execution_count": 13,
      "outputs": []
    },
    {
      "cell_type": "code",
      "source": [
        "sns.distplot(dados);"
      ],
      "metadata": {
        "colab": {
          "base_uri": "https://localhost:8080/",
          "height": 320
        },
        "id": "6I1TRZpyDa2z",
        "outputId": "39367b57-29ed-429c-c7ae-f89b90830925"
      },
      "execution_count": 14,
      "outputs": [
        {
          "output_type": "stream",
          "name": "stderr",
          "text": [
            "/usr/local/lib/python3.8/dist-packages/seaborn/distributions.py:2619: FutureWarning: `distplot` is a deprecated function and will be removed in a future version. Please adapt your code to use either `displot` (a figure-level function with similar flexibility) or `histplot` (an axes-level function for histograms).\n",
            "  warnings.warn(msg, FutureWarning)\n"
          ]
        },
        {
          "output_type": "display_data",
          "data": {
            "text/plain": [
              "<Figure size 432x288 with 1 Axes>"
            ],
            "image/png": "[encoded data removed]"
          },
          "metadata": {
            "needs_background": "light"
          }
        }
      ]
    },
    {
      "cell_type": "code",
      "source": [
        "media = np.mean(dados)\n",
        "desvio_padrao = np.std(dados)\n",
        "media, desvio_padrao"
      ],
      "metadata": {
        "colab": {
          "base_uri": "https://localhost:8080/"
        },
        "id": "KQV1SYdIDeIT",
        "outputId": "ca4b25b6-462d-4e9a-961a-64409328e9dc"
      },
      "execution_count": 15,
      "outputs": [
        {
          "output_type": "execute_result",
          "data": {
            "text/plain": [
              "(159.4090909090909, 13.626208339777)"
            ]
          },
          "metadata": {},
          "execution_count": 15
        }
      ]
    },
    {
      "cell_type": "code",
      "source": [
        "np.quantile(dados, [0.25, 0.5, 0.75])"
      ],
      "metadata": {
        "colab": {
          "base_uri": "https://localhost:8080/"
        },
        "id": "cdsQ72p1EEMz",
        "outputId": "6fc80e6b-6c7a-4b87-e03f-0a983dc57714"
      },
      "execution_count": 16,
      "outputs": [
        {
          "output_type": "execute_result",
          "data": {
            "text/plain": [
              "array([150.5, 161. , 168. ])"
            ]
          },
          "metadata": {},
          "execution_count": 16
        }
      ]
    },
    {
      "cell_type": "markdown",
      "source": [
        "### Exercício 01\n",
        "\n",
        "  *  Uma empresa fez um concurso para seleção de novos funcionários. A prova tinha 50 questões e o Pedro acertou 40 questões. Considerando uma distribuição normal com média 24 e desvio padrão de 8, quais são as chances dele ser contratado?"
      ],
      "metadata": {
        "id": "guhDGzCo1JCd"
      }
    },
    {
      "cell_type": "code",
      "source": [
        "X = 40\n",
        "media = 24\n",
        "desvio_padrao = 8"
      ],
      "metadata": {
        "id": "eP8Nv2BfERAq"
      },
      "execution_count": 17,
      "outputs": []
    },
    {
      "cell_type": "code",
      "source": [
        "padronizado = (X - media) / desvio_padrao\n",
        "padronizado"
      ],
      "metadata": {
        "id": "YrT6wDqp2VTO",
        "outputId": "02212f24-0d3b-42db-fd12-5f0572b69898",
        "colab": {
          "base_uri": "https://localhost:8080/"
        }
      },
      "execution_count": 18,
      "outputs": [
        {
          "output_type": "execute_result",
          "data": {
            "text/plain": [
              "2.0"
            ]
          },
          "metadata": {},
          "execution_count": 18
        }
      ]
    },
    {
      "cell_type": "code",
      "source": [
        "0.99725"
      ],
      "metadata": {
        "id": "MmP0Yt8S2eSd",
        "outputId": "69127c2e-ac98-49ec-dc47-49f32ea3ae83",
        "colab": {
          "base_uri": "https://localhost:8080/"
        }
      },
      "execution_count": 19,
      "outputs": [
        {
          "output_type": "execute_result",
          "data": {
            "text/plain": [
              "0.99725"
            ]
          },
          "metadata": {},
          "execution_count": 19
        }
      ]
    },
    {
      "cell_type": "code",
      "source": [
        "stats.norm.cdf(padronizado)"
      ],
      "metadata": {
        "id": "VJ6NoTIM2hVC",
        "outputId": "54b001ef-997c-4aa4-9783-8eabba6f52a7",
        "colab": {
          "base_uri": "https://localhost:8080/"
        }
      },
      "execution_count": 20,
      "outputs": [
        {
          "output_type": "execute_result",
          "data": {
            "text/plain": [
              "0.9772498680518208"
            ]
          },
          "metadata": {},
          "execution_count": 20
        }
      ]
    },
    {
      "cell_type": "code",
      "source": [
        "stats.norm.ppf(0.9772498680518208)"
      ],
      "metadata": {
        "id": "FnEBBktw21xO",
        "outputId": "655fa7dc-a14a-4dfd-a1b0-16f44f7b34a1",
        "colab": {
          "base_uri": "https://localhost:8080/"
        }
      },
      "execution_count": 21,
      "outputs": [
        {
          "output_type": "execute_result",
          "data": {
            "text/plain": [
              "2.0000000000000004"
            ]
          },
          "metadata": {},
          "execution_count": 21
        }
      ]
    },
    {
      "cell_type": "code",
      "source": [
        "stats.norm.cdf(X, media, desvio_padrao)"
      ],
      "metadata": {
        "id": "F2J-i1Ia2liX",
        "outputId": "6e049557-379c-408c-d392-a857f4124491",
        "colab": {
          "base_uri": "https://localhost:8080/"
        }
      },
      "execution_count": 22,
      "outputs": [
        {
          "output_type": "execute_result",
          "data": {
            "text/plain": [
              "0.9772498680518208"
            ]
          },
          "metadata": {},
          "execution_count": 22
        }
      ]
    },
    {
      "cell_type": "markdown",
      "source": [
        "### Exercício 02\n",
        "\n",
        "  * A vida útil de uma marca de pneus é representada por uma distribuição normal com média de 38.000 km e desvio padrão de 3.000 km. \n",
        "  1. Qual a probabilidade de que um pneu escolhido aleatoriamente tenha vida útil de 35.000 km?\n",
        "  2. Qual a probabilidade de que ele dure mais do que 44.000 km?"
      ],
      "metadata": {
        "id": "W2iUo2_F1h2K"
      }
    },
    {
      "cell_type": "markdown",
      "source": [
        "#### Questão 01"
      ],
      "metadata": {
        "id": "iBroX66g3j8H"
      }
    },
    {
      "cell_type": "code",
      "source": [
        "1 - stats.norm.cdf(35000, 38000, 3000)"
      ],
      "metadata": {
        "id": "9uYGfXt83jCz",
        "outputId": "7848fe95-3957-48bb-c1b1-f23052f5171f",
        "colab": {
          "base_uri": "https://localhost:8080/"
        }
      },
      "execution_count": 23,
      "outputs": [
        {
          "output_type": "execute_result",
          "data": {
            "text/plain": [
              "0.8413447460685429"
            ]
          },
          "metadata": {},
          "execution_count": 23
        }
      ]
    },
    {
      "cell_type": "code",
      "source": [
        "stats.norm.sf(35000, 38000, 3000)"
      ],
      "metadata": {
        "id": "DPZgQq0xE3ws",
        "outputId": "5b604e64-0868-4b06-9cab-835f15d55e11",
        "colab": {
          "base_uri": "https://localhost:8080/"
        }
      },
      "execution_count": 24,
      "outputs": [
        {
          "output_type": "execute_result",
          "data": {
            "text/plain": [
              "0.8413447460685429"
            ]
          },
          "metadata": {},
          "execution_count": 24
        }
      ]
    },
    {
      "cell_type": "markdown",
      "source": [
        "#### Questão 02"
      ],
      "metadata": {
        "id": "kwTbpfMs37M0"
      }
    },
    {
      "cell_type": "code",
      "source": [
        "1 - stats.norm.cdf(44000, 38000, 3000)"
      ],
      "metadata": {
        "id": "pGIb_sDw320G",
        "outputId": "e5fd2793-1351-442f-92b0-2f9323e3e932",
        "colab": {
          "base_uri": "https://localhost:8080/"
        }
      },
      "execution_count": 25,
      "outputs": [
        {
          "output_type": "execute_result",
          "data": {
            "text/plain": [
              "0.02275013194817921"
            ]
          },
          "metadata": {},
          "execution_count": 25
        }
      ]
    },
    {
      "cell_type": "code",
      "source": [
        "stats.norm.sf(44000, 38000, 3000)"
      ],
      "metadata": {
        "id": "nFET0kwA4Az1",
        "outputId": "8de09446-a386-499f-cf4b-0f2899c318ab",
        "colab": {
          "base_uri": "https://localhost:8080/"
        }
      },
      "execution_count": 26,
      "outputs": [
        {
          "output_type": "execute_result",
          "data": {
            "text/plain": [
              "0.022750131948179195"
            ]
          },
          "metadata": {},
          "execution_count": 26
        }
      ]
    },
    {
      "cell_type": "markdown",
      "source": [
        "## PROBABILIDADE - Distribuição Binomial\n",
        "\n",
        "* Respostas sucesso ou fracasso e experimentos independentes\n",
        "* Probabilidade de selecionar \"coroa\" 5 vezes\n",
        "  * X = 5 (número de sucessos)\n",
        "  * p = 0,5 (probabilidade de sucesso)\n",
        "  * n = 10 (quantidade de tentativas - trials)"
      ],
      "metadata": {
        "id": "mIutiedm4qwv"
      }
    },
    {
      "cell_type": "code",
      "source": [
        "n = 10\n",
        "x = 5\n",
        "p = 0.5"
      ],
      "metadata": {
        "id": "JnnPW_8w4EB2"
      },
      "execution_count": 27,
      "outputs": []
    },
    {
      "cell_type": "code",
      "source": [
        "import math\n",
        "(math.factorial(n)) / (math.factorial(x) * math.factorial(n - x)) * math.pow(p, x) * math.pow(1-p, n-x)"
      ],
      "metadata": {
        "id": "svNmDRSt6Pwn",
        "outputId": "7d0684e5-7ae9-4b5d-b3b2-cdb00d591402",
        "colab": {
          "base_uri": "https://localhost:8080/"
        }
      },
      "execution_count": 28,
      "outputs": [
        {
          "output_type": "execute_result",
          "data": {
            "text/plain": [
              "0.24609375"
            ]
          },
          "metadata": {},
          "execution_count": 28
        }
      ]
    },
    {
      "cell_type": "code",
      "source": [
        "stats.binom.pmf(x, n, p)"
      ],
      "metadata": {
        "id": "I6mlvZIu6pg_",
        "outputId": "3e843a35-c4c8-415d-df7f-77fcfbc56917",
        "colab": {
          "base_uri": "https://localhost:8080/"
        }
      },
      "execution_count": 29,
      "outputs": [
        {
          "output_type": "execute_result",
          "data": {
            "text/plain": [
              "0.24609375000000003"
            ]
          },
          "metadata": {},
          "execution_count": 29
        }
      ]
    },
    {
      "cell_type": "markdown",
      "source": [
        "### Exercício 1\n",
        "\n",
        "  * 70% das pessoas que compraram o livro de Python são mulheres. Se 10 leitores forem selecionados randomicamente, qual a probabilidade de selecionarmos 7 mulheres?"
      ],
      "metadata": {
        "id": "dM80aBQT7BIg"
      }
    },
    {
      "cell_type": "markdown",
      "source": [
        "### Exercício 2\n",
        "\n",
        "  * Em uma linha de produção de uma fábrica de parafusos, a probabilidade de obter um parafuso defeituoso é de 0,05. Tendo uma amostra de 50 peças, qual a probabilidade de obter\n",
        "  1. Um parafuso defeituoso\n",
        "  2. Nenhum parafuso defeituoso"
      ],
      "metadata": {
        "id": "OiPIO9QF-3B-"
      }
    },
    {
      "cell_type": "code",
      "source": [
        "n = 10\n",
        "x = 7\n",
        "p = 0.7"
      ],
      "metadata": {
        "id": "LrmCTf4u68G1"
      },
      "execution_count": 30,
      "outputs": []
    },
    {
      "cell_type": "code",
      "source": [
        "stats.binom.pmf(x, n, p)"
      ],
      "metadata": {
        "id": "6BuWZYYL77KO",
        "outputId": "38ee75fb-989e-4b8d-ed56-b414b6f7e3fd",
        "colab": {
          "base_uri": "https://localhost:8080/"
        }
      },
      "execution_count": 31,
      "outputs": [
        {
          "output_type": "execute_result",
          "data": {
            "text/plain": [
              "0.26682793200000005"
            ]
          },
          "metadata": {},
          "execution_count": 31
        }
      ]
    },
    {
      "cell_type": "code",
      "source": [
        "# parafuso defeituoso\n",
        "n = 50\n",
        "x = 1\n",
        "p = 0.05\n",
        "\n",
        "stats.binom.pmf(x, n, p)"
      ],
      "metadata": {
        "id": "ckWb26Ue7uRG",
        "outputId": "11b5d7f8-7200-4f1b-ef92-f615f566b32b",
        "colab": {
          "base_uri": "https://localhost:8080/"
        }
      },
      "execution_count": 32,
      "outputs": [
        {
          "output_type": "execute_result",
          "data": {
            "text/plain": [
              "0.2024867770439825"
            ]
          },
          "metadata": {},
          "execution_count": 32
        }
      ]
    },
    {
      "cell_type": "code",
      "source": [
        "# nenhum parafuso defeituoso\n",
        "\n",
        "n = 50\n",
        "x = 0\n",
        "p = 0.05\n",
        "\n",
        "stats.binom.pmf(x, n, p)"
      ],
      "metadata": {
        "id": "JlRTJ3oR8UaN",
        "outputId": "2461b295-6ca0-4054-fb92-76c72b1b0bce",
        "colab": {
          "base_uri": "https://localhost:8080/"
        }
      },
      "execution_count": 33,
      "outputs": [
        {
          "output_type": "execute_result",
          "data": {
            "text/plain": [
              "0.07694497527671315"
            ]
          },
          "metadata": {},
          "execution_count": 33
        }
      ]
    },
    {
      "cell_type": "markdown",
      "source": [
        "## PROBABILIDADE - Distribuição de Poisson\n",
        "\n",
        "  * Ocorrência de eventos no decorrer do tempo (não considera o número de experimentos)\n",
        "  * Os eventos devem ser independentes\n",
        "  * Considera o número de \"sucessos\" baseado no tempo\n",
        "  * Parâmetros da fórmula\n",
        "    * X: número de eventos calculados\n",
        "    * Número de Euler (2.71828)\n",
        "    * Número médio de eventos\n"
      ],
      "metadata": {
        "id": "OCAOSz948rLe"
      }
    },
    {
      "cell_type": "markdown",
      "source": [
        "### Exemplo dos carros\n",
        "\n",
        "  * O número médio de carros vendidos por dia é 10. Qual a probabilidade de vender 14 carros amanhã?"
      ],
      "metadata": {
        "id": "jYhqQXC09unO"
      }
    },
    {
      "cell_type": "code",
      "source": [
        "x = 14\n",
        "media = 10"
      ],
      "metadata": {
        "id": "Z1yIVLaj8d5V"
      },
      "execution_count": 34,
      "outputs": []
    },
    {
      "cell_type": "code",
      "source": [
        "math.e"
      ],
      "metadata": {
        "id": "DPeo5Kyp9-wN",
        "outputId": "482c3b01-d032-4fe8-8faf-1fcb0231cc97",
        "colab": {
          "base_uri": "https://localhost:8080/"
        }
      },
      "execution_count": 35,
      "outputs": [
        {
          "output_type": "execute_result",
          "data": {
            "text/plain": [
              "2.718281828459045"
            ]
          },
          "metadata": {},
          "execution_count": 35
        }
      ]
    },
    {
      "cell_type": "code",
      "source": [
        "math.pow(math.e, -media) * (math.pow(media, x) / math.factorial(x)) * 100"
      ],
      "metadata": {
        "id": "KHQkxMRn9_tc",
        "outputId": "b0a92a5d-2c28-488f-b7dc-0cd0714bd82c",
        "colab": {
          "base_uri": "https://localhost:8080/"
        }
      },
      "execution_count": 36,
      "outputs": [
        {
          "output_type": "execute_result",
          "data": {
            "text/plain": [
              "5.207710444602621"
            ]
          },
          "metadata": {},
          "execution_count": 36
        }
      ]
    },
    {
      "cell_type": "code",
      "source": [
        "stats.poisson.pmf(x, media)"
      ],
      "metadata": {
        "id": "YW3OznV--KHT",
        "outputId": "65b326db-0e25-469f-f517-e892f72eff98",
        "colab": {
          "base_uri": "https://localhost:8080/"
        }
      },
      "execution_count": 37,
      "outputs": [
        {
          "output_type": "execute_result",
          "data": {
            "text/plain": [
              "0.05207710444602615"
            ]
          },
          "metadata": {},
          "execution_count": 37
        }
      ]
    },
    {
      "cell_type": "markdown",
      "source": [
        "### Exercício 1\n",
        "\n",
        "  * Em uma linha de produção de uma fábrica de parafusos, a probabilidade de obter um parafuso defeituoso é de 0,05 por UNIDADE. Qual a probabilidade de uma unidade apresentar:\n",
        "  1. Um defeito\n",
        "  2. Nenhum defeito"
      ],
      "metadata": {
        "id": "C0frb3X77ZMq"
      }
    },
    {
      "cell_type": "markdown",
      "source": [
        "#### Questão 01"
      ],
      "metadata": {
        "id": "7XBuQIzZ-pOp"
      }
    },
    {
      "cell_type": "code",
      "source": [
        "x = 1\n",
        "media = 0.05"
      ],
      "metadata": {
        "id": "bvjIm238-iD0"
      },
      "execution_count": 38,
      "outputs": []
    },
    {
      "cell_type": "code",
      "source": [
        "stats.poisson.pmf(x, media) * 100"
      ],
      "metadata": {
        "id": "_cpdHK7Z_Q3c",
        "outputId": "2e8425e1-1307-42a4-bc2e-ea83ca80149d",
        "colab": {
          "base_uri": "https://localhost:8080/"
        }
      },
      "execution_count": 39,
      "outputs": [
        {
          "output_type": "execute_result",
          "data": {
            "text/plain": [
              "4.756147122503571"
            ]
          },
          "metadata": {},
          "execution_count": 39
        }
      ]
    },
    {
      "cell_type": "markdown",
      "source": [
        "#### Questão 2"
      ],
      "metadata": {
        "id": "LLb8YmP8_ZqO"
      }
    },
    {
      "cell_type": "code",
      "source": [
        "x = 0\n",
        "media = 0.05\n",
        "\n",
        "stats.poisson.pmf(x, media) * 100"
      ],
      "metadata": {
        "id": "bQ7ifYkX_Uub",
        "outputId": "fab9fbd4-dcc2-4c36-d3fc-03bff4629e03",
        "colab": {
          "base_uri": "https://localhost:8080/"
        }
      },
      "execution_count": 40,
      "outputs": [
        {
          "output_type": "execute_result",
          "data": {
            "text/plain": [
              "95.1229424500714"
            ]
          },
          "metadata": {},
          "execution_count": 40
        }
      ]
    },
    {
      "cell_type": "markdown",
      "source": [
        "### Exercício 2\n",
        "\n",
        "  * Um vendedor de uma loja vende em média 50 produtos por dia. Qual a probabilidade de vender somente 5 produtos no próximo dia?"
      ],
      "metadata": {
        "id": "OdNuJuUM_kFz"
      }
    },
    {
      "cell_type": "code",
      "source": [
        "x = 5\n",
        "media = 50"
      ],
      "metadata": {
        "id": "Jn3hRpdb_jZl"
      },
      "execution_count": 41,
      "outputs": []
    },
    {
      "cell_type": "code",
      "source": [
        "stats.poisson.pmf(x, media)"
      ],
      "metadata": {
        "id": "dF0qozDy_fjT",
        "outputId": "6becfafa-f27f-40ab-e9c8-b4629a511d30",
        "colab": {
          "base_uri": "https://localhost:8080/"
        }
      },
      "execution_count": 42,
      "outputs": [
        {
          "output_type": "execute_result",
          "data": {
            "text/plain": [
              "5.02278606240605e-16"
            ]
          },
          "metadata": {},
          "execution_count": 42
        }
      ]
    },
    {
      "cell_type": "markdown",
      "source": [
        "## Previsão de probabilidades em machine learning"
      ],
      "metadata": {
        "id": "ipYp6_Ku9dXa"
      }
    },
    {
      "cell_type": "code",
      "source": [
        "import pandas as pd\n",
        "dataset = pd.read_csv('/content/drive/MyDrive/Estatística para Ciência de Dados e Machine Learning/Bases de dados/credit_data.csv')\n",
        "dataset.dropna(inplace=True)\n",
        "dataset.head()"
      ],
      "metadata": {
        "id": "BQNZz7IZ_zm3",
        "outputId": "4dcaa038-f132-42f3-d217-7f23d34198f6",
        "colab": {
          "base_uri": "https://localhost:8080/",
          "height": 206
        }
      },
      "execution_count": 43,
      "outputs": [
        {
          "output_type": "execute_result",
          "data": {
            "text/plain": [
              "   i#clientid        income        age         loan  c#default\n",
              "0           1  66155.925095  59.017015  8106.532131          0\n",
              "1           2  34415.153966  48.117153  6564.745018          0\n",
              "2           3  57317.170063  63.108049  8020.953296          0\n",
              "3           4  42709.534201  45.751972  6103.642260          0\n",
              "4           5  66952.688845  18.584336  8770.099235          1"
            ],
            "text/html": [
              "\n",
              "  <div id=\"df-986e0440-0e3b-4323-bc73-703fe6676f00\">\n",
              "    <div class=\"colab-df-container\">\n",
              "      <div>\n",
              "<style scoped>\n",
              "    .dataframe tbody tr th:only-of-type {\n",
              "        vertical-align: middle;\n",
              "    }\n",
              "\n",
              "    .dataframe tbody tr th {\n",
              "        vertical-align: top;\n",
              "    }\n",
              "\n",
              "    .dataframe thead th {\n",
              "        text-align: right;\n",
              "    }\n",
              "</style>\n",
              "<table border=\"1\" class=\"dataframe\">\n",
              "  <thead>\n",
              "    <tr style=\"text-align: right;\">\n",
              "      <th></th>\n",
              "      <th>i#clientid</th>\n",
              "      <th>income</th>\n",
              "      <th>age</th>\n",
              "      <th>loan</th>\n",
              "      <th>c#default</th>\n",
              "    </tr>\n",
              "  </thead>\n",
              "  <tbody>\n",
              "    <tr>\n",
              "      <th>0</th>\n",
              "      <td>1</td>\n",
              "      <td>66155.925095</td>\n",
              "      <td>59.017015</td>\n",
              "      <td>8106.532131</td>\n",
              "      <td>0</td>\n",
              "    </tr>\n",
              "    <tr>\n",
              "      <th>1</th>\n",
              "      <td>2</td>\n",
              "      <td>34415.153966</td>\n",
              "      <td>48.117153</td>\n",
              "      <td>6564.745018</td>\n",
              "      <td>0</td>\n",
              "    </tr>\n",
              "    <tr>\n",
              "      <th>2</th>\n",
              "      <td>3</td>\n",
              "      <td>57317.170063</td>\n",
              "      <td>63.108049</td>\n",
              "      <td>8020.953296</td>\n",
              "      <td>0</td>\n",
              "    </tr>\n",
              "    <tr>\n",
              "      <th>3</th>\n",
              "      <td>4</td>\n",
              "      <td>42709.534201</td>\n",
              "      <td>45.751972</td>\n",
              "      <td>6103.642260</td>\n",
              "      <td>0</td>\n",
              "    </tr>\n",
              "    <tr>\n",
              "      <th>4</th>\n",
              "      <td>5</td>\n",
              "      <td>66952.688845</td>\n",
              "      <td>18.584336</td>\n",
              "      <td>8770.099235</td>\n",
              "      <td>1</td>\n",
              "    </tr>\n",
              "  </tbody>\n",
              "</table>\n",
              "</div>\n",
              "      <button class=\"colab-df-convert\" onclick=\"convertToInteractive('df-986e0440-0e3b-4323-bc73-703fe6676f00')\"\n",
              "              title=\"Convert this dataframe to an interactive table.\"\n",
              "              style=\"display:none;\">\n",
              "        \n",
              "  <svg xmlns=\"http://www.w3.org/2000/svg\" height=\"24px\"viewBox=\"0 0 24 24\"\n",
              "       width=\"24px\">\n",
              "    <path d=\"M0 0h24v24H0V0z\" fill=\"none\"/>\n",
              "    <path d=\"M18.56 5.44l.94 2.06.94-2.06 2.06-.94-2.06-.94-.94-2.06-.94 2.06-2.06.94zm-11 1L8.5 8.5l.94-2.06 2.06-.94-2.06-.94L8.5 2.5l-.94 2.06-2.06.94zm10 10l.94 2.06.94-2.06 2.06-.94-2.06-.94-.94-2.06-.94 2.06-2.06.94z\"/><path d=\"M17.41 7.96l-1.37-1.37c-.4-.4-.92-.59-1.43-.59-.52 0-1.04.2-1.43.59L10.3 9.45l-7.72 7.72c-.78.78-.78 2.05 0 2.83L4 21.41c.39.39.9.59 1.41.59.51 0 1.02-.2 1.41-.59l7.78-7.78 2.81-2.81c.8-.78.8-2.07 0-2.86zM5.41 20L4 18.59l7.72-7.72 1.47 1.35L5.41 20z\"/>\n",
              "  </svg>\n",
              "      </button>\n",
              "      \n",
              "  <style>\n",
              "    .colab-df-container {\n",
              "      display:flex;\n",
              "      flex-wrap:wrap;\n",
              "      gap: 12px;\n",
              "    }\n",
              "\n",
              "    .colab-df-convert {\n",
              "      background-color: #E8F0FE;\n",
              "      border: none;\n",
              "      border-radius: 50%;\n",
              "      cursor: pointer;\n",
              "      display: none;\n",
              "      fill: #1967D2;\n",
              "      height: 32px;\n",
              "      padding: 0 0 0 0;\n",
              "      width: 32px;\n",
              "    }\n",
              "\n",
              "    .colab-df-convert:hover {\n",
              "      background-color: #E2EBFA;\n",
              "      box-shadow: 0px 1px 2px rgba(60, 64, 67, 0.3), 0px 1px 3px 1px rgba(60, 64, 67, 0.15);\n",
              "      fill: #174EA6;\n",
              "    }\n",
              "\n",
              "    [theme=dark] .colab-df-convert {\n",
              "      background-color: #3B4455;\n",
              "      fill: #D2E3FC;\n",
              "    }\n",
              "\n",
              "    [theme=dark] .colab-df-convert:hover {\n",
              "      background-color: #434B5C;\n",
              "      box-shadow: 0px 1px 3px 1px rgba(0, 0, 0, 0.15);\n",
              "      filter: drop-shadow(0px 1px 2px rgba(0, 0, 0, 0.3));\n",
              "      fill: #FFFFFF;\n",
              "    }\n",
              "  </style>\n",
              "\n",
              "      <script>\n",
              "        const buttonEl =\n",
              "          document.querySelector('#df-986e0440-0e3b-4323-bc73-703fe6676f00 button.colab-df-convert');\n",
              "        buttonEl.style.display =\n",
              "          google.colab.kernel.accessAllowed ? 'block' : 'none';\n",
              "\n",
              "        async function convertToInteractive(key) {\n",
              "          const element = document.querySelector('#df-986e0440-0e3b-4323-bc73-703fe6676f00');\n",
              "          const dataTable =\n",
              "            await google.colab.kernel.invokeFunction('convertToInteractive',\n",
              "                                                     [key], {});\n",
              "          if (!dataTable) return;\n",
              "\n",
              "          const docLinkHtml = 'Like what you see? Visit the ' +\n",
              "            '<a target=\"_blank\" href=https://colab.research.google.com/notebooks/data_table.ipynb>data table notebook</a>'\n",
              "            + ' to learn more about interactive tables.';\n",
              "          element.innerHTML = '';\n",
              "          dataTable['output_type'] = 'display_data';\n",
              "          await google.colab.output.renderOutput(dataTable, element);\n",
              "          const docLink = document.createElement('div');\n",
              "          docLink.innerHTML = docLinkHtml;\n",
              "          element.appendChild(docLink);\n",
              "        }\n",
              "      </script>\n",
              "    </div>\n",
              "  </div>\n",
              "  "
            ]
          },
          "metadata": {},
          "execution_count": 43
        }
      ]
    },
    {
      "cell_type": "code",
      "source": [
        "X = dataset.iloc[:, 1:4].values\n",
        "X"
      ],
      "metadata": {
        "id": "xjIo85Ne98SF",
        "outputId": "b9acd34b-4a2a-482a-8a4f-7bdd445ff8cf",
        "colab": {
          "base_uri": "https://localhost:8080/"
        }
      },
      "execution_count": 44,
      "outputs": [
        {
          "output_type": "execute_result",
          "data": {
            "text/plain": [
              "array([[6.61559251e+04, 5.90170151e+01, 8.10653213e+03],\n",
              "       [3.44151540e+04, 4.81171531e+01, 6.56474502e+03],\n",
              "       [5.73171701e+04, 6.31080495e+01, 8.02095330e+03],\n",
              "       ...,\n",
              "       [4.43114493e+04, 2.80171669e+01, 5.52278669e+03],\n",
              "       [4.37560566e+04, 6.39717958e+01, 1.62272260e+03],\n",
              "       [6.94365796e+04, 5.61526170e+01, 7.37883360e+03]])"
            ]
          },
          "metadata": {},
          "execution_count": 44
        }
      ]
    },
    {
      "cell_type": "code",
      "source": [
        "y = dataset.iloc[:,4].values\n",
        "y"
      ],
      "metadata": {
        "id": "uf-qeOKf-I4T",
        "outputId": "b956195d-ea06-471e-f0ce-ff0d5f8981f6",
        "colab": {
          "base_uri": "https://localhost:8080/"
        }
      },
      "execution_count": 45,
      "outputs": [
        {
          "output_type": "execute_result",
          "data": {
            "text/plain": [
              "array([0, 0, 0, ..., 1, 0, 0])"
            ]
          },
          "metadata": {},
          "execution_count": 45
        }
      ]
    },
    {
      "cell_type": "code",
      "source": [
        "from sklearn.naive_bayes import GaussianNB\n",
        "naive_bayes = GaussianNB()\n",
        "naive_bayes.fit(X, y)"
      ],
      "metadata": {
        "id": "MwLN39XR-OvK",
        "outputId": "f66c69db-0951-4241-a662-b0c31903d1dd",
        "colab": {
          "base_uri": "https://localhost:8080/",
          "height": 75
        }
      },
      "execution_count": 46,
      "outputs": [
        {
          "output_type": "execute_result",
          "data": {
            "text/plain": [
              "GaussianNB()"
            ],
            "text/html": [
              "<style>#sk-container-id-1 {color: black;background-color: white;}#sk-container-id-1 pre{padding: 0;}#sk-container-id-1 div.sk-toggleable {background-color: white;}#sk-container-id-1 label.sk-toggleable__label {cursor: pointer;display: block;width: 100%;margin-bottom: 0;padding: 0.3em;box-sizing: border-box;text-align: center;}#sk-container-id-1 label.sk-toggleable__label-arrow:before {content: \"▸\";float: left;margin-right: 0.25em;color: #696969;}#sk-container-id-1 label.sk-toggleable__label-arrow:hover:before {color: black;}#sk-container-id-1 div.sk-estimator:hover label.sk-toggleable__label-arrow:before {color: black;}#sk-container-id-1 div.sk-toggleable__content {max-height: 0;max-width: 0;overflow: hidden;text-align: left;background-color: #f0f8ff;}#sk-container-id-1 div.sk-toggleable__content pre {margin: 0.2em;color: black;border-radius: 0.25em;background-color: #f0f8ff;}#sk-container-id-1 input.sk-toggleable__control:checked~div.sk-toggleable__content {max-height: 200px;max-width: 100%;overflow: auto;}#sk-container-id-1 input.sk-toggleable__control:checked~label.sk-toggleable__label-arrow:before {content: \"▾\";}#sk-container-id-1 div.sk-estimator input.sk-toggleable__control:checked~label.sk-toggleable__label {background-color: #d4ebff;}#sk-container-id-1 div.sk-label input.sk-toggleable__control:checked~label.sk-toggleable__label {background-color: #d4ebff;}#sk-container-id-1 input.sk-hidden--visually {border: 0;clip: rect(1px 1px 1px 1px);clip: rect(1px, 1px, 1px, 1px);height: 1px;margin: -1px;overflow: hidden;padding: 0;position: absolute;width: 1px;}#sk-container-id-1 div.sk-estimator {font-family: monospace;background-color: #f0f8ff;border: 1px dotted black;border-radius: 0.25em;box-sizing: border-box;margin-bottom: 0.5em;}#sk-container-id-1 div.sk-estimator:hover {background-color: #d4ebff;}#sk-container-id-1 div.sk-parallel-item::after {content: \"\";width: 100%;border-bottom: 1px solid gray;flex-grow: 1;}#sk-container-id-1 div.sk-label:hover label.sk-toggleable__label {background-color: #d4ebff;}#sk-container-id-1 div.sk-serial::before {content: \"\";position: absolute;border-left: 1px solid gray;box-sizing: border-box;top: 0;bottom: 0;left: 50%;z-index: 0;}#sk-container-id-1 div.sk-serial {display: flex;flex-direction: column;align-items: center;background-color: white;padding-right: 0.2em;padding-left: 0.2em;position: relative;}#sk-container-id-1 div.sk-item {position: relative;z-index: 1;}#sk-container-id-1 div.sk-parallel {display: flex;align-items: stretch;justify-content: center;background-color: white;position: relative;}#sk-container-id-1 div.sk-item::before, #sk-container-id-1 div.sk-parallel-item::before {content: \"\";position: absolute;border-left: 1px solid gray;box-sizing: border-box;top: 0;bottom: 0;left: 50%;z-index: -1;}#sk-container-id-1 div.sk-parallel-item {display: flex;flex-direction: column;z-index: 1;position: relative;background-color: white;}#sk-container-id-1 div.sk-parallel-item:first-child::after {align-self: flex-end;width: 50%;}#sk-container-id-1 div.sk-parallel-item:last-child::after {align-self: flex-start;width: 50%;}#sk-container-id-1 div.sk-parallel-item:only-child::after {width: 0;}#sk-container-id-1 div.sk-dashed-wrapped {border: 1px dashed gray;margin: 0 0.4em 0.5em 0.4em;box-sizing: border-box;padding-bottom: 0.4em;background-color: white;}#sk-container-id-1 div.sk-label label {font-family: monospace;font-weight: bold;display: inline-block;line-height: 1.2em;}#sk-container-id-1 div.sk-label-container {text-align: center;}#sk-container-id-1 div.sk-container {/* jupyter's `normalize.less` sets `[hidden] { display: none; }` but bootstrap.min.css set `[hidden] { display: none !important; }` so we also need the `!important` here to be able to override the default hidden behavior on the sphinx rendered scikit-learn.org. See: https://github.com/scikit-learn/scikit-learn/issues/21755 */display: inline-block !important;position: relative;}#sk-container-id-1 div.sk-text-repr-fallback {display: none;}</style><div id=\"sk-container-id-1\" class=\"sk-top-container\"><div class=\"sk-text-repr-fallback\"><pre>GaussianNB()</pre><b>In a Jupyter environment, please rerun this cell to show the HTML representation or trust the notebook. <br />On GitHub, the HTML representation is unable to render, please try loading this page with nbviewer.org.</b></div><div class=\"sk-container\" hidden><div class=\"sk-item\"><div class=\"sk-estimator sk-toggleable\"><input class=\"sk-toggleable__control sk-hidden--visually\" id=\"sk-estimator-id-1\" type=\"checkbox\" checked><label for=\"sk-estimator-id-1\" class=\"sk-toggleable__label sk-toggleable__label-arrow\">GaussianNB</label><div class=\"sk-toggleable__content\"><pre>GaussianNB()</pre></div></div></div></div></div>"
            ]
          },
          "metadata": {},
          "execution_count": 46
        }
      ]
    },
    {
      "cell_type": "code",
      "source": [
        "X[0], X[0].shape"
      ],
      "metadata": {
        "id": "QLyQ_IKX-cmj",
        "outputId": "4fa5573b-1d54-40c0-9c7d-c7729247eb79",
        "colab": {
          "base_uri": "https://localhost:8080/"
        }
      },
      "execution_count": 47,
      "outputs": [
        {
          "output_type": "execute_result",
          "data": {
            "text/plain": [
              "(array([6.61559251e+04, 5.90170151e+01, 8.10653213e+03]), (3,))"
            ]
          },
          "metadata": {},
          "execution_count": 47
        }
      ]
    },
    {
      "cell_type": "code",
      "source": [
        "novo = X[0].reshape(1,-1)\n",
        "novo.shape"
      ],
      "metadata": {
        "id": "vpiukX5x-jUj",
        "outputId": "195df6c6-885d-4f2a-bee7-f7358d3f56b5",
        "colab": {
          "base_uri": "https://localhost:8080/"
        }
      },
      "execution_count": 51,
      "outputs": [
        {
          "output_type": "execute_result",
          "data": {
            "text/plain": [
              "(1, 3)"
            ]
          },
          "metadata": {},
          "execution_count": 51
        }
      ]
    },
    {
      "cell_type": "code",
      "source": [
        "novo"
      ],
      "metadata": {
        "id": "yGOZgQoF-rBr",
        "outputId": "09179b37-81de-40fa-d5e3-2c61a29bdca6",
        "colab": {
          "base_uri": "https://localhost:8080/"
        }
      },
      "execution_count": 52,
      "outputs": [
        {
          "output_type": "execute_result",
          "data": {
            "text/plain": [
              "array([[6.61559251e+04, 5.90170151e+01, 8.10653213e+03]])"
            ]
          },
          "metadata": {},
          "execution_count": 52
        }
      ]
    },
    {
      "cell_type": "code",
      "source": [
        "naive_bayes.predict(novo)"
      ],
      "metadata": {
        "id": "Aa0T7riM-uOq",
        "outputId": "c17e7c8e-3a68-4121-fb4f-1e2819736824",
        "colab": {
          "base_uri": "https://localhost:8080/"
        }
      },
      "execution_count": 55,
      "outputs": [
        {
          "output_type": "execute_result",
          "data": {
            "text/plain": [
              "array([0])"
            ]
          },
          "metadata": {},
          "execution_count": 55
        }
      ]
    },
    {
      "cell_type": "code",
      "source": [
        "previsao = naive_bayes.predict_proba(novo)\n",
        "previsao"
      ],
      "metadata": {
        "id": "i2d7Qt2n-zDq",
        "outputId": "1ac4f7c8-4c64-4277-ed10-fc0703487f2b",
        "colab": {
          "base_uri": "https://localhost:8080/"
        }
      },
      "execution_count": 56,
      "outputs": [
        {
          "output_type": "execute_result",
          "data": {
            "text/plain": [
              "array([[1.00000000e+00, 2.03924534e-10]])"
            ]
          },
          "metadata": {},
          "execution_count": 56
        }
      ]
    },
    {
      "cell_type": "code",
      "source": [
        "np.argmax(previsao)"
      ],
      "metadata": {
        "id": "kF-_IQEL_FQy",
        "outputId": "82c97ae3-ba7f-4391-8311-fd68639c2e68",
        "colab": {
          "base_uri": "https://localhost:8080/"
        }
      },
      "execution_count": 57,
      "outputs": [
        {
          "output_type": "execute_result",
          "data": {
            "text/plain": [
              "0"
            ]
          },
          "metadata": {},
          "execution_count": 57
        }
      ]
    },
    {
      "cell_type": "code",
      "source": [],
      "metadata": {
        "id": "QecyFXxO_IuD"
      },
      "execution_count": null,
      "outputs": []
    }
  ]
}