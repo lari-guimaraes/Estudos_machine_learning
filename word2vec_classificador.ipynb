{
  "nbformat": 4,
  "nbformat_minor": 0,
  "metadata": {
    "colab": {
      "name": "word2vec_classificador.ipynb",
      "provenance": [],
      "collapsed_sections": [],
      "mount_file_id": "1xdInL2yjxNhr8S6f5YgExCgsmYc5AZHi",
      "authorship_tag": "ABX9TyPC1bPQRtoCC65h6zaF+42x",
      "include_colab_link": true
    },
    "kernelspec": {
      "name": "python3",
      "display_name": "Python 3"
    },
    "language_info": {
      "name": "python"
    }
  },
  "cells": [
    {
      "cell_type": "markdown",
      "metadata": {
        "id": "view-in-github",
        "colab_type": "text"
      },
      "source": [
        "<a href=\"https://colab.research.google.com/github/lari-guimaraes/Estudos_machine_learning/blob/main/word2vec_classificador.ipynb\" target=\"_parent\"><img src=\"https://colab.research.google.com/assets/colab-badge.svg\" alt=\"Open In Colab\"/></a>"
      ]
    },
    {
      "cell_type": "code",
      "execution_count": null,
      "metadata": {
        "id": "H72-IJUbPZts"
      },
      "outputs": [],
      "source": [
        "!python -m spacy download pt_core_news_sm"
      ]
    },
    {
      "cell_type": "code",
      "source": [
        "import numpy as np\n",
        "import pandas as pd\n",
        "from gensim.models import KeyedVectors\n",
        "w2v_modelo_cbow = KeyedVectors.load_word2vec_format('/content/drive/MyDrive/curso_word2vec/modelo_cbow.txt')\n",
        "w2v_modelo_sg = KeyedVectors.load_word2vec_format('/content/drive/MyDrive/curso_word2vec/modelo_skipgram.txt')\n",
        "artigo_treino = pd.read_csv('/content/drive/MyDrive/curso_word2vec/treino.csv')\n",
        "artigo_teste = pd.read_csv('/content/drive/MyDrive/curso_word2vec/teste.csv')"
      ],
      "metadata": {
        "id": "0YXbWxelSvIS"
      },
      "execution_count": null,
      "outputs": []
    },
    {
      "cell_type": "code",
      "source": [
        "import spacy\n",
        "nlp = spacy.load('pt_core_news_sm', disable=['paser', 'ner', 'tagger', 'text'])\n",
        "def tokenizador(texto):\n",
        "  doc = nlp(texto)\n",
        "  tokens_validos = []\n",
        "  for token in doc:\n",
        "    e_valido = not token.is_stop and token.is_alpha\n",
        "    if e_valido:\n",
        "      tokens_validos.append(token.text.lower())\n",
        "  return tokens_validos\n",
        "\n",
        "texto = 'Rio de Janeiro 12345 *** @#$ é uma cidade maravilhosa'\n",
        "tokens = tokenizador(texto)\n",
        "print(tokens)"
      ],
      "metadata": {
        "colab": {
          "base_uri": "https://localhost:8080/"
        },
        "id": "7RtoW0soQSgV",
        "outputId": "952d7842-924a-4983-d4f1-ed5791d56373"
      },
      "execution_count": null,
      "outputs": [
        {
          "output_type": "execute_result",
          "data": {
            "text/plain": [
              "['rio', 'janeiro', 'cidade', 'maravilhosa']"
            ]
          },
          "metadata": {},
          "execution_count": 3
        }
      ]
    },
    {
      "cell_type": "code",
      "source": [
        "\n",
        "def combinacao_de_vetores_por_soma(palavras, modelo):\n",
        "  vetor_resultante = np.zeros((1,300))\n",
        "\n",
        "  for pn in palavras_numeros:\n",
        "    try:\n",
        "      vetor_resultante += modelo.get_vector(pn)\n",
        "    except KeyError:\n",
        "      pass \n",
        "\n",
        "  return vetor_resultante\n",
        "\n",
        "vetor_texto = combinacao_de_vetores_por_soma(tokens, w2v_modelo_cbow)\n",
        "print(len(vetor_texto))\n",
        "print(vetor_texto)"
      ],
      "metadata": {
        "id": "b0mZ31jkQinE"
      },
      "execution_count": null,
      "outputs": []
    },
    {
      "cell_type": "code",
      "source": [
        "def matriz_vetores(textos, modelo):\n",
        "  x = len(textos)\n",
        "  y = 300\n",
        "  matriz = np.zeros((x,y))\n",
        "\n",
        "  for i in range(x):\n",
        "    palavras = tokenizador()\n",
        "    matriz[i] = combinacao_de_vetores_por_soma(palavras, modelo)\n",
        "\n",
        "  return matriz\n",
        "\n",
        "matriz_vetores_treino_cbow = matriz_vetores(artigo_treino.title, w2v_modelo_cbow)\n",
        "matriz_vetores_teste_cbow = matriz_vetores(artigo_teste.title, w2v_modelo_cbow)\n",
        "print(matriz_vetores_treino_cbow.shape)\n",
        "print(matriz_vetores_teste_cbow.shape)"
      ],
      "metadata": {
        "colab": {
          "base_uri": "https://localhost:8080/",
          "height": 246
        },
        "id": "_HeCMCYMPk4I",
        "outputId": "6e9ee2c9-e310-437f-aab1-e5efdaaddb0d"
      },
      "execution_count": null,
      "outputs": [
        {
          "output_type": "error",
          "ename": "NameError",
          "evalue": "ignored",
          "traceback": [
            "\u001b[0;31m---------------------------------------------------------------------------\u001b[0m",
            "\u001b[0;31mNameError\u001b[0m                                 Traceback (most recent call last)",
            "\u001b[0;32m<ipython-input-2-303ef04bf634>\u001b[0m in \u001b[0;36m<module>\u001b[0;34m()\u001b[0m\n\u001b[1;32m     10\u001b[0m   \u001b[0;32mreturn\u001b[0m \u001b[0mmatriz\u001b[0m\u001b[0;34m\u001b[0m\u001b[0;34m\u001b[0m\u001b[0m\n\u001b[1;32m     11\u001b[0m \u001b[0;34m\u001b[0m\u001b[0m\n\u001b[0;32m---> 12\u001b[0;31m \u001b[0mmatriz_vetores_treino\u001b[0m \u001b[0;34m=\u001b[0m \u001b[0mmatriz_vetores\u001b[0m\u001b[0;34m(\u001b[0m\u001b[0martigo_treino\u001b[0m\u001b[0;34m.\u001b[0m\u001b[0mtitle\u001b[0m\u001b[0;34m)\u001b[0m\u001b[0;34m\u001b[0m\u001b[0;34m\u001b[0m\u001b[0m\n\u001b[0m\u001b[1;32m     13\u001b[0m \u001b[0mmatriz_vetores_teste\u001b[0m \u001b[0;34m=\u001b[0m \u001b[0mmatriz_vetores\u001b[0m\u001b[0;34m(\u001b[0m\u001b[0martigo_teste\u001b[0m\u001b[0;34m.\u001b[0m\u001b[0mtitle\u001b[0m\u001b[0;34m)\u001b[0m\u001b[0;34m\u001b[0m\u001b[0;34m\u001b[0m\u001b[0m\n\u001b[1;32m     14\u001b[0m \u001b[0mprint\u001b[0m\u001b[0;34m(\u001b[0m\u001b[0mmatriz_vetores_treino\u001b[0m\u001b[0;34m.\u001b[0m\u001b[0mshape\u001b[0m\u001b[0;34m)\u001b[0m\u001b[0;34m\u001b[0m\u001b[0;34m\u001b[0m\u001b[0m\n",
            "\u001b[0;31mNameError\u001b[0m: name 'artigo_treino' is not defined"
          ]
        }
      ]
    },
    {
      "cell_type": "code",
      "source": [
        "from sklearn.linear_model import LogisticRegression\n",
        "from sklearn.metrics import classification_report\n",
        "\n",
        "def classificador(modelo, x_treino, y_treino, y_teste):\n",
        "\n",
        "\n",
        "  RL = LogisticRegression(max_iter=800)\n",
        "  RL.fit(x_treino, y_treino)\n",
        "  categorias = RL.predict(x_teste)\n",
        "  resultados = classification_report(y_teste, categorias)\n",
        "  print(resultados)\n",
        "  return RL\n",
        "\n",
        "RL_cbow = classificador(w2v_modelo_cbow, matriz_vetores_treino_cbow, artigo_treino.category, matriz_vetores_teste_cbow, artigo_teste.category)"
      ],
      "metadata": {
        "id": "qNxR0AhnqdtT"
      },
      "execution_count": null,
      "outputs": []
    },
    {
      "cell_type": "code",
      "source": [
        "matriz_vetores_treino_sg = matriz_vetores(artigo_treino.title, w2v_modelo_sg)\n",
        "matriz_vetores_teste_sg = matriz_vetores(artigo_teste.title, w2v_modelo_sg)\n",
        "RL_sg = classificador(w2v_modelo_sg, matriz_vetores_treino_sg, artigo_treino.category, matriz_vetores_teste_sg, artigo_teste.category)"
      ],
      "metadata": {
        "id": "qiOl78zGvF_B"
      },
      "execution_count": null,
      "outputs": []
    },
    {
      "cell_type": "code",
      "source": [
        "import pickle\n",
        "\n",
        "with open('/content/drive/MyDrive/curso_word2vec/rl_cbow_pkl', 'wb') as f:\n",
        "  pickle.dump(RL_cbow, f)"
      ],
      "metadata": {
        "id": "1PIKU_BOv5sV"
      },
      "execution_count": null,
      "outputs": []
    },
    {
      "cell_type": "code",
      "source": [
        "with open('/content/drive/MyDrive/curso_word2vec/rl_cbow_sg', 'wb') as f:\n",
        "  pickle.dump(RL_sg, f)"
      ],
      "metadata": {
        "id": "zSa2q9FtwxSU"
      },
      "execution_count": null,
      "outputs": []
    },
    {
      "cell_type": "code",
      "source": [
        ""
      ],
      "metadata": {
        "id": "cm-HCugTw4Ue"
      },
      "execution_count": null,
      "outputs": []
    }
  ]
}