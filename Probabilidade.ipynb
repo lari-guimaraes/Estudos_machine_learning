{
  "nbformat": 4,
  "nbformat_minor": 0,
  "metadata": {
    "colab": {
      "provenance": [],
      "authorship_tag": "ABX9TyMpLoTvHMQRLIDz7csTB4UH",
      "include_colab_link": true
    },
    "kernelspec": {
      "name": "python3",
      "display_name": "Python 3"
    },
    "language_info": {
      "name": "python"
    }
  },
  "cells": [
    {
      "cell_type": "markdown",
      "metadata": {
        "id": "view-in-github",
        "colab_type": "text"
      },
      "source": [
        "<a href=\"https://colab.research.google.com/github/lari-guimaraes/Estudos_machine_learning/blob/main/Probabilidade.ipynb\" target=\"_parent\"><img src=\"https://colab.research.google.com/assets/colab-badge.svg\" alt=\"Open In Colab\"/></a>"
      ]
    },
    {
      "cell_type": "markdown",
      "source": [
        "# Probabilidade\n",
        "\n",
        "* São as chances de um evento ocorrer\n",
        "* Representado com números entre 0 e 1\n",
        "* Probabilidade de jogar uma moeda (1/2 = 0.5 = 50%)\n",
        "* O ato de jogar a moeda é chamado de tentativa (trial) - experimento\n",
        "* Cada jogada da moeda é independente da outra\n"
      ],
      "metadata": {
        "id": "bXMu4HBbudUZ"
      }
    },
    {
      "cell_type": "markdown",
      "source": [
        "## Experimento, evento e espaço amostral\n",
        "\n",
        "  * Cada tentativa de jogar a moeda é chamado de um **experimento**\n",
        "  * Cada resultado (cara ou coroa) é chamado de **evento**\n",
        "  * A soma de todos os possíveis eventos é chamado de **espaço amostral**\n",
        "  * Exemplo - dados\n",
        "    * Cada \"Jogada\" é um experimento\n",
        "    * Eventos: 1, 2, 3, 4, 5, 6\n",
        "    * Espaço amostral: {E1, E2, E3,E4,E5,E6}"
      ],
      "metadata": {
        "id": "O7OWZllJu9EU"
      }
    },
    {
      "cell_type": "markdown",
      "source": [
        "## Importações"
      ],
      "metadata": {
        "id": "PG-eH-C7wmo9"
      }
    },
    {
      "cell_type": "code",
      "source": [
        "import numpy as np\n",
        "from scipy import stats\n",
        "import seaborn as sns"
      ],
      "metadata": {
        "id": "zBl7t4FEwonC"
      },
      "execution_count": 1,
      "outputs": []
    },
    {
      "cell_type": "markdown",
      "source": [
        "## Permutação\n",
        "\n",
        "* Arranjar objetos em uma sequência\n",
        "* Quais são as permutações possíveis para as letras A, B e C?\n",
        "* Fatorial!\n",
        "* 3! = 3 x 2 x 1 = 6 (permutações)\n"
      ],
      "metadata": {
        "id": "It78rk5kwK82"
      }
    },
    {
      "cell_type": "code",
      "source": [
        "import math"
      ],
      "metadata": {
        "id": "rmGJNXS4wktL"
      },
      "execution_count": 2,
      "outputs": []
    },
    {
      "cell_type": "code",
      "source": [
        "math.factorial(3)"
      ],
      "metadata": {
        "colab": {
          "base_uri": "https://localhost:8080/"
        },
        "id": "icot7hhJu8dA",
        "outputId": "c5a5495c-dd4d-47e6-d91b-ba202d1d0f2a"
      },
      "execution_count": 3,
      "outputs": [
        {
          "output_type": "execute_result",
          "data": {
            "text/plain": [
              "6"
            ]
          },
          "metadata": {},
          "execution_count": 3
        }
      ]
    },
    {
      "cell_type": "markdown",
      "source": [
        "### Permutação para subconjuntos\n",
        "\n",
        "* Criar uma senha com 5 caracteres, que pode ser composto por letras e números de 0 até 9\n",
        "* Números e letras não podem ser repetidos\n",
        "* Evento: 5 caracteres\n",
        "* Espaço amostral: 26 letras + 10 digitos = 36"
      ],
      "metadata": {
        "id": "NC31HR3aw7Iy"
      }
    },
    {
      "cell_type": "code",
      "source": [
        "math.factorial(36)/math.factorial(36-5)"
      ],
      "metadata": {
        "colab": {
          "base_uri": "https://localhost:8080/"
        },
        "id": "bezXCg6Qw2r5",
        "outputId": "8d69f082-b48a-4d79-9b2b-f37ab725cdfb"
      },
      "execution_count": 4,
      "outputs": [
        {
          "output_type": "execute_result",
          "data": {
            "text/plain": [
              "45239040.0"
            ]
          },
          "metadata": {},
          "execution_count": 4
        }
      ]
    },
    {
      "cell_type": "markdown",
      "source": [
        "* Criar uma senha com 5 caracteres, que pode ser composto por letras e números de 0 até 9\n",
        "* Números e letras PODEM ser repetidos\n",
        "* Evento: 5 caracteres\n",
        "* Espaço amostral: 26 letras + 10 digitos = 36\n",
        "* n^r = 36^5 = 60.466.176"
      ],
      "metadata": {
        "id": "cxr3Vgmyxf8H"
      }
    },
    {
      "cell_type": "code",
      "source": [
        "math.pow(36, 5)"
      ],
      "metadata": {
        "colab": {
          "base_uri": "https://localhost:8080/"
        },
        "id": "jj2LlRkzxd28",
        "outputId": "6d68443f-e6be-4f4d-b7ac-16ee8565031c"
      },
      "execution_count": 5,
      "outputs": [
        {
          "output_type": "execute_result",
          "data": {
            "text/plain": [
              "60466176.0"
            ]
          },
          "metadata": {},
          "execution_count": 5
        }
      ]
    },
    {
      "cell_type": "markdown",
      "source": [
        "## Combinação\n",
        "\n",
        "* Número possível de arranjos em uma coleção (a ordem não importa como na permutação)\n",
        "* Quantas combinações de 2 letras podem ser feitas com ABCDEF?\n",
        "* Sem considerar repetições\n",
        "* C = n!/r!(n - r)!"
      ],
      "metadata": {
        "id": "h1-K0xcCyQbk"
      }
    },
    {
      "cell_type": "code",
      "source": [
        "math.factorial(6)/(math.factorial(2) * math.factorial(6-2))"
      ],
      "metadata": {
        "colab": {
          "base_uri": "https://localhost:8080/"
        },
        "id": "8M-O4R6Sx5Aa",
        "outputId": "c91981c8-16fd-4f91-9cf5-bf51a73899c9"
      },
      "execution_count": 6,
      "outputs": [
        {
          "output_type": "execute_result",
          "data": {
            "text/plain": [
              "15.0"
            ]
          },
          "metadata": {},
          "execution_count": 6
        }
      ]
    },
    {
      "cell_type": "markdown",
      "source": [
        "* Considerando repetições\n",
        "* C = (n+r - 1)!/r!(n-1)!"
      ],
      "metadata": {
        "id": "r7mCROjYy-ux"
      }
    },
    {
      "cell_type": "code",
      "source": [
        "math.factorial(6+2-1)/(math.factorial(2)*math.factorial(6-1))"
      ],
      "metadata": {
        "colab": {
          "base_uri": "https://localhost:8080/"
        },
        "id": "Ywn-qD9Cy2t6",
        "outputId": "001e0195-32ef-4e97-ee42-dc92ad298cca"
      },
      "execution_count": 7,
      "outputs": [
        {
          "output_type": "execute_result",
          "data": {
            "text/plain": [
              "21.0"
            ]
          },
          "metadata": {},
          "execution_count": 7
        }
      ]
    },
    {
      "cell_type": "markdown",
      "source": [
        "## Interseção, união e diferença"
      ],
      "metadata": {
        "id": "yGyCcEzJ1dbW"
      }
    },
    {
      "cell_type": "code",
      "source": [
        "a = (0,1,2,3,4,5,6,7)\n",
        "b = (0,2,4,6,8)"
      ],
      "metadata": {
        "id": "Sg7Co0oCzekB"
      },
      "execution_count": 11,
      "outputs": []
    },
    {
      "cell_type": "markdown",
      "source": [
        "### interseção"
      ],
      "metadata": {
        "id": "fUAamtqe1nco"
      }
    },
    {
      "cell_type": "code",
      "source": [
        "set(a) & set(b)"
      ],
      "metadata": {
        "colab": {
          "base_uri": "https://localhost:8080/"
        },
        "id": "5klImkHs1mnS",
        "outputId": "3d8ed403-7e85-45e7-abed-0f2fa7ab9cf3"
      },
      "execution_count": 12,
      "outputs": [
        {
          "output_type": "execute_result",
          "data": {
            "text/plain": [
              "{0, 2, 4, 6}"
            ]
          },
          "metadata": {},
          "execution_count": 12
        }
      ]
    },
    {
      "cell_type": "markdown",
      "source": [
        "### união"
      ],
      "metadata": {
        "id": "CG0EOAZs1tfm"
      }
    },
    {
      "cell_type": "code",
      "source": [
        "set (a) | set (b)\n"
      ],
      "metadata": {
        "colab": {
          "base_uri": "https://localhost:8080/"
        },
        "id": "Cala2TXz1siR",
        "outputId": "d46169d6-4675-4f27-f850-33b1dca1f83d"
      },
      "execution_count": 13,
      "outputs": [
        {
          "output_type": "execute_result",
          "data": {
            "text/plain": [
              "{0, 1, 2, 3, 4, 5, 6, 7, 8}"
            ]
          },
          "metadata": {},
          "execution_count": 13
        }
      ]
    },
    {
      "cell_type": "markdown",
      "source": [
        "### diferença"
      ],
      "metadata": {
        "id": "8DnC5x8813uU"
      }
    },
    {
      "cell_type": "code",
      "source": [
        "set(a).difference(set(b))"
      ],
      "metadata": {
        "colab": {
          "base_uri": "https://localhost:8080/"
        },
        "id": "RTV0ac_81zDR",
        "outputId": "f0cc4ba7-70ea-4aca-de48-e4ad640706fe"
      },
      "execution_count": 14,
      "outputs": [
        {
          "output_type": "execute_result",
          "data": {
            "text/plain": [
              "{1, 3, 5, 7}"
            ]
          },
          "metadata": {},
          "execution_count": 14
        }
      ]
    },
    {
      "cell_type": "code",
      "source": [
        "set(b).difference(set(a))"
      ],
      "metadata": {
        "colab": {
          "base_uri": "https://localhost:8080/"
        },
        "id": "NzVlZPRS1-4y",
        "outputId": "0ff63a7d-1757-49cd-e98a-e527a3d6703c"
      },
      "execution_count": 15,
      "outputs": [
        {
          "output_type": "execute_result",
          "data": {
            "text/plain": [
              "{8}"
            ]
          },
          "metadata": {},
          "execution_count": 15
        }
      ]
    },
    {
      "cell_type": "markdown",
      "source": [
        "## Eventos Independentes\n",
        "\n",
        "* O resultado de um evento não influencia na resposta de outro evento\n",
        "* Jogar uma moeda 2 vezes (as chances são independentes)\n",
        "* Calcular a probabilidade de obter dois \"coroas\" em duas tentativas\n",
        "* p = 1/2 x 1/2 = 1/4 = 0.25 = 25%"
      ],
      "metadata": {
        "id": "aEGVKv0E2QDK"
      }
    },
    {
      "cell_type": "markdown",
      "source": [
        "## Eventos Dependentes\n",
        "\n",
        "* O resultado do primeiro evento influencia no resultado do segundo evento\n",
        "* Um baralho possui 52 cartas e 13 dessas são de \"espada\"\n",
        "* Qual a probabilidade de tirar 2 cartas de espada?\n",
        "* p = 13/52 * 12/51 = 156/2652 = 0.05 = (5,88%)"
      ],
      "metadata": {
        "id": "5i7QnUCP3Aqx"
      }
    },
    {
      "cell_type": "markdown",
      "source": [
        "## Probabilidade Condicional\n",
        "\n",
        "* Calcular a probabilidade do evento A, dado que o evento B ocorreu\n",
        "* P(a|b) = x, pode ser lido como: \"Dado o evento b, a probabilidade do evento a é x\"\n",
        "* Exemplo\n",
        "  * P(Cárie|Dor) = 0.8, indica que caso um paciente esteja com dor (de dente) e nenhuma outra informação esteja disponível, então, a probabilidade do paciente ter uma cárie é de 0.8"
      ],
      "metadata": {
        "id": "93FcVX8K3gUj"
      }
    },
    {
      "cell_type": "markdown",
      "source": [],
      "metadata": {
        "id": "WRjNSyIZ4QR7"
      }
    },
    {
      "cell_type": "code",
      "source": [],
      "metadata": {
        "id": "1izV_RbN2DuJ"
      },
      "execution_count": null,
      "outputs": []
    }
  ]
}