{
  "nbformat": 4,
  "nbformat_minor": 0,
  "metadata": {
    "colab": {
      "name": "Deep Learning.ipynb",
      "provenance": [],
      "collapsed_sections": [],
      "authorship_tag": "ABX9TyM5lnBUBeateK5vIHDEkGRP",
      "include_colab_link": true
    },
    "kernelspec": {
      "name": "python3",
      "display_name": "Python 3"
    },
    "language_info": {
      "name": "python"
    }
  },
  "cells": [
    {
      "cell_type": "markdown",
      "metadata": {
        "id": "view-in-github",
        "colab_type": "text"
      },
      "source": [
        "<a href=\"https://colab.research.google.com/github/lari-guimaraes/Estudos_machine_learning/blob/main/Deep_Learning.ipynb\" target=\"_parent\"><img src=\"https://colab.research.google.com/assets/colab-badge.svg\" alt=\"Open In Colab\"/></a>"
      ]
    },
    {
      "cell_type": "code",
      "execution_count": 1,
      "metadata": {
        "id": "qBs5JTID0-fo"
      },
      "outputs": [],
      "source": [
        "#imports\n",
        "import tensorflow\n",
        "from tensorflow import keras\n",
        "import matplotlib.pyplot as plt\n",
        "import numpy as np"
      ]
    },
    {
      "cell_type": "markdown",
      "source": [
        "#Visualizando o dataset"
      ],
      "metadata": {
        "id": "bsiEwPbK9Gor"
      }
    },
    {
      "cell_type": "code",
      "source": [
        "#crregar o dataset\n",
        "dataset = keras.datasets.fashion_mnist\n",
        "((imagens_treino, identificacoes_treino),(imagens_teste, identificacoes_teste)) = dataset.load_data()"
      ],
      "metadata": {
        "id": "BKBYuz4N-bJK",
        "colab": {
          "base_uri": "https://localhost:8080/"
        },
        "outputId": "9172fc98-2427-45c5-8ea7-425abd2afdff"
      },
      "execution_count": 2,
      "outputs": [
        {
          "output_type": "stream",
          "name": "stdout",
          "text": [
            "Downloading data from https://storage.googleapis.com/tensorflow/tf-keras-datasets/train-labels-idx1-ubyte.gz\n",
            "32768/29515 [=================================] - 0s 0us/step\n",
            "40960/29515 [=========================================] - 0s 0us/step\n",
            "Downloading data from https://storage.googleapis.com/tensorflow/tf-keras-datasets/train-images-idx3-ubyte.gz\n",
            "26427392/26421880 [==============================] - 0s 0us/step\n",
            "26435584/26421880 [==============================] - 0s 0us/step\n",
            "Downloading data from https://storage.googleapis.com/tensorflow/tf-keras-datasets/t10k-labels-idx1-ubyte.gz\n",
            "16384/5148 [===============================================================================================] - 0s 0us/step\n",
            "Downloading data from https://storage.googleapis.com/tensorflow/tf-keras-datasets/t10k-images-idx3-ubyte.gz\n",
            "4423680/4422102 [==============================] - 0s 0us/step\n",
            "4431872/4422102 [==============================] - 0s 0us/step\n"
          ]
        }
      ]
    },
    {
      "cell_type": "code",
      "source": [
        "#explorar os dados\n",
        "plt.imshow(imagens_treino[0])\n",
        "plt.title(identificacoes_treino[0])\n",
        "identificacoes_treino.min()\n",
        "identificacoes_treino.max()\n",
        "\n",
        "#exibir os dados\n",
        "total_de_classificacoes = 10\n",
        "nomes_de_classificacoes = ['Camiseta', 'Calça', 'Pullover',\n",
        "                           'Vestido', 'Casaco', 'Sandália', 'Camisa',\n",
        "                           'Tênis', 'Bolsa', 'Bota']\n",
        "'''\n",
        "for imagem in range(10):\n",
        "  plt.subplot(2,5,imagem+1)\n",
        "  plt.imshow(imagens_treino[imagem])\n",
        "  plt.title(nomes_de_classificacoes[identificacoes_treino[imagem]])\n",
        "'''\n",
        "plt.imshow(imagens_treino[0])\n",
        "plt.colorbar()"
      ],
      "metadata": {
        "colab": {
          "base_uri": "https://localhost:8080/",
          "height": 298
        },
        "id": "nsyz0eqS4E0-",
        "outputId": "140e9fff-52e7-49a9-8ad7-97dc032ae314"
      },
      "execution_count": 3,
      "outputs": [
        {
          "output_type": "execute_result",
          "data": {
            "text/plain": [
              "<matplotlib.colorbar.Colorbar at 0x7fd99e88ee50>"
            ]
          },
          "metadata": {},
          "execution_count": 3
        },
        {
          "output_type": "display_data",
          "data": {
            "text/plain": [
              "<Figure size 432x288 with 2 Axes>"
            ],
            "image/png": "[encoded data removed]"
          },
          "metadata": {
            "needs_background": "light"
          }
        }
      ]
    },
    {
      "cell_type": "markdown",
      "source": [
        "# Normalizando as imagens"
      ],
      "metadata": {
        "id": "oH4xVpeB741M"
      }
    },
    {
      "cell_type": "code",
      "source": [
        "\n",
        "imagens_treino = imagens_treino/float(255)\n"
      ],
      "metadata": {
        "id": "FDHve9us4c4V"
      },
      "execution_count": 4,
      "outputs": []
    },
    {
      "cell_type": "markdown",
      "source": [
        "# Criando, compilando, treinando e normalizando o modelo"
      ],
      "metadata": {
        "id": "OSQpncEn8Hht"
      }
    },
    {
      "cell_type": "code",
      "source": [
        "\n",
        "modelo = keras.Sequential([\n",
        "  keras.layers.Flatten(input_shape = (28,28)),  \n",
        "  keras.layers.Dense(256, activation=tensorflow.nn.relu),\n",
        "  keras.layers.Dropout(0.2),\n",
        "  keras.layers.Dense(10, activation=tensorflow.nn.softmax)\n",
        "])\n",
        "\n",
        "adam = keras.optimizers.Adam(lr=0.002)\n",
        "\n",
        "modelo.compile(optimizer=adam, loss='sparse_categorical_crossentropy', metrics=['accuracy'])\n",
        "\n",
        "historico = modelo.fit(imagens_treino, identificacoes_treino,\n",
        "                       batch_size = 480,epochs=5, validation_split=0.2)"
      ],
      "metadata": {
        "colab": {
          "base_uri": "https://localhost:8080/"
        },
        "id": "Zvd_Yjj18A_k",
        "outputId": "1be1e595-c4b5-434b-cd0f-70ae5c0e3061"
      },
      "execution_count": 24,
      "outputs": [
        {
          "output_type": "stream",
          "name": "stdout",
          "text": [
            "Epoch 1/5\n"
          ]
        },
        {
          "output_type": "stream",
          "name": "stderr",
          "text": [
            "/usr/local/lib/python3.7/dist-packages/keras/optimizer_v2/adam.py:105: UserWarning: The `lr` argument is deprecated, use `learning_rate` instead.\n",
            "  super(Adam, self).__init__(name, **kwargs)\n"
          ]
        },
        {
          "output_type": "stream",
          "name": "stdout",
          "text": [
            "100/100 [==============================] - 2s 17ms/step - loss: 0.6372 - accuracy: 0.7781 - val_loss: 0.4507 - val_accuracy: 0.8428\n",
            "Epoch 2/5\n",
            "100/100 [==============================] - 2s 16ms/step - loss: 0.4336 - accuracy: 0.8472 - val_loss: 0.3895 - val_accuracy: 0.8643\n",
            "Epoch 3/5\n",
            "100/100 [==============================] - 2s 16ms/step - loss: 0.3907 - accuracy: 0.8612 - val_loss: 0.3845 - val_accuracy: 0.8618\n",
            "Epoch 4/5\n",
            "100/100 [==============================] - 2s 16ms/step - loss: 0.3576 - accuracy: 0.8722 - val_loss: 0.3582 - val_accuracy: 0.8667\n",
            "Epoch 5/5\n",
            "100/100 [==============================] - 2s 16ms/step - loss: 0.3373 - accuracy: 0.8775 - val_loss: 0.3424 - val_accuracy: 0.8762\n"
          ]
        }
      ]
    },
    {
      "cell_type": "markdown",
      "source": [
        "## Sumário do Modelo"
      ],
      "metadata": {
        "id": "0RpEdFNmkrh8"
      }
    },
    {
      "cell_type": "code",
      "source": [
        "modelo.summary()\n",
        "#resumo do modelo"
      ],
      "metadata": {
        "colab": {
          "base_uri": "https://localhost:8080/"
        },
        "id": "J9hdMd1k_eJ-",
        "outputId": "ef66605d-28db-436a-c321-440a5581eabd"
      },
      "execution_count": 6,
      "outputs": [
        {
          "output_type": "stream",
          "name": "stdout",
          "text": [
            "Model: \"sequential\"\n",
            "_________________________________________________________________\n",
            " Layer (type)                Output Shape              Param #   \n",
            "=================================================================\n",
            " flatten (Flatten)           (None, 784)               0         \n",
            "                                                                 \n",
            " dense (Dense)               (None, 256)               200960    \n",
            "                                                                 \n",
            " dropout (Dropout)           (None, 256)               0         \n",
            "                                                                 \n",
            " dense_1 (Dense)             (None, 10)                2570      \n",
            "                                                                 \n",
            "=================================================================\n",
            "Total params: 203,530\n",
            "Trainable params: 203,530\n",
            "Non-trainable params: 0\n",
            "_________________________________________________________________\n"
          ]
        }
      ]
    },
    {
      "cell_type": "markdown",
      "source": [
        "# Pesos da primeira camada Dense"
      ],
      "metadata": {
        "id": "Fk6gEvcmlBfJ"
      }
    },
    {
      "cell_type": "code",
      "source": [
        "pesos_camada_dense = modelo.layers[1].get_weights()[0]\n",
        "pesos_camada_dense"
      ],
      "metadata": {
        "colab": {
          "base_uri": "https://localhost:8080/"
        },
        "id": "2WmSa1ChkIa8",
        "outputId": "f61e5a8c-63e9-46a9-bdf1-aed6fc4cce09"
      },
      "execution_count": 7,
      "outputs": [
        {
          "output_type": "execute_result",
          "data": {
            "text/plain": [
              "array([[ 0.16123466, -0.07081458,  0.04934847, ...,  0.00737777,\n",
              "         0.01312392, -0.02777291],\n",
              "       [ 0.02432526,  0.01245423, -0.08231343, ...,  0.09126709,\n",
              "        -0.08259726, -0.02558358],\n",
              "       [ 0.23763251,  0.068046  , -0.02556746, ...,  0.04282024,\n",
              "         0.05557979,  0.00215897],\n",
              "       ...,\n",
              "       [-0.13795981, -0.06467046,  0.01834431, ...,  0.18351403,\n",
              "        -0.06915418,  0.03589977],\n",
              "       [ 0.04598906,  0.01551429,  0.01050389, ..., -0.07944939,\n",
              "        -0.10767864, -0.0490052 ],\n",
              "       [ 0.05711038, -0.02321477, -0.06275263, ..., -0.07239196,\n",
              "        -0.03238531, -0.05125967]], dtype=float32)"
            ]
          },
          "metadata": {},
          "execution_count": 7
        }
      ]
    },
    {
      "cell_type": "code",
      "source": [
        "vieses_camada_dense = modelo.layers[1].get_weights()[1]\n"
      ],
      "metadata": {
        "id": "bRexuCo6l_zL"
      },
      "execution_count": 8,
      "outputs": []
    },
    {
      "cell_type": "code",
      "source": [
        "pesos_camada_dense_aleatorios = np.random.rand(784,256)\n",
        "vieses_camada_dense_zerados = np.zeros((256,))\n",
        "modelo.layers[1].set_weights([pesos_camada_dense_aleatorios, vieses_camada_dense_zerados])"
      ],
      "metadata": {
        "id": "ogTyKN8zq7qN"
      },
      "execution_count": 10,
      "outputs": []
    },
    {
      "cell_type": "code",
      "source": [
        "pesos_camada_dense.shape\n",
        "pesos_camada_dense_zerados = np.zeros((784,256))\n",
        "\n",
        "pesos_camada_dense_aleatorios = np.random.rand(784,256)\n",
        "\n",
        "'''\n",
        "modelo.layers[1].set_weights([pesos_camada_dense_zerados, vieses_camada_dense])\n",
        "'''\n",
        "modelo.layers[1].set_weights([pesos_camada_dense_aleatorios, vieses_camada_dense])\n",
        "\n",
        "\n",
        "pesos_camada_dense_aleatorios"
      ],
      "metadata": {
        "colab": {
          "base_uri": "https://localhost:8080/"
        },
        "id": "SQzA0hA0m_QS",
        "outputId": "849a334f-9c35-4a0c-c969-ea4dd7ee24ef"
      },
      "execution_count": 11,
      "outputs": [
        {
          "output_type": "execute_result",
          "data": {
            "text/plain": [
              "array([[0.62724229, 0.95853162, 0.34467675, ..., 0.76068004, 0.56804882,\n",
              "        0.99565661],\n",
              "       [0.63306606, 0.42586575, 0.57210847, ..., 0.69224505, 0.52129803,\n",
              "        0.9470681 ],\n",
              "       [0.62114908, 0.80673499, 0.88812221, ..., 0.21561875, 0.26935341,\n",
              "        0.46259483],\n",
              "       ...,\n",
              "       [0.77881611, 0.70792836, 0.97169953, ..., 0.33410515, 0.32186217,\n",
              "        0.38531785],\n",
              "       [0.51535899, 0.23240408, 0.30484776, ..., 0.90228132, 0.27158326,\n",
              "        0.80299245],\n",
              "       [0.80008157, 0.88843409, 0.53973367, ..., 0.89882275, 0.44894065,\n",
              "        0.20075643]])"
            ]
          },
          "metadata": {},
          "execution_count": 11
        }
      ]
    },
    {
      "cell_type": "code",
      "source": [
        "modelo.compile(optimizer='adam', loss='sparse_categorical_crossentropy', metrics=['accuracy'])\n",
        "\n",
        "historico = modelo.fit(imagens_treino, identificacoes_treino, epochs=5, validation_split=0.2)"
      ],
      "metadata": {
        "colab": {
          "base_uri": "https://localhost:8080/"
        },
        "id": "KViEAD4En4A5",
        "outputId": "ac6b705c-664c-429a-cebb-1eb84e6481e8"
      },
      "execution_count": 12,
      "outputs": [
        {
          "output_type": "stream",
          "name": "stdout",
          "text": [
            "Epoch 1/5\n",
            "1500/1500 [==============================] - 6s 4ms/step - loss: 86.1142 - accuracy: 0.4206 - val_loss: 15.9246 - val_accuracy: 0.6695\n",
            "Epoch 2/5\n",
            "1500/1500 [==============================] - 6s 4ms/step - loss: 22.8296 - accuracy: 0.6262 - val_loss: 7.5882 - val_accuracy: 0.7227\n",
            "Epoch 3/5\n",
            "1500/1500 [==============================] - 6s 4ms/step - loss: 10.2204 - accuracy: 0.6809 - val_loss: 4.4380 - val_accuracy: 0.7626\n",
            "Epoch 4/5\n",
            "1500/1500 [==============================] - 6s 4ms/step - loss: 5.3462 - accuracy: 0.7088 - val_loss: 2.7067 - val_accuracy: 0.7607\n",
            "Epoch 5/5\n",
            "1500/1500 [==============================] - 7s 5ms/step - loss: 3.0291 - accuracy: 0.7345 - val_loss: 2.2952 - val_accuracy: 0.7238\n"
          ]
        }
      ]
    },
    {
      "cell_type": "code",
      "source": [
        "plt.plot(historico.history['accuracy'])\n",
        "plt.plot(historico.history['val_accuracy'])\n",
        "plt.title('Acurácia por épocas')\n",
        "plt.xlabel('epócas')\n",
        "plt.ylabel('acurácia')\n",
        "plt.legend(['treino', 'avaliação'])"
      ],
      "metadata": {
        "colab": {
          "base_uri": "https://localhost:8080/",
          "height": 313
        },
        "id": "zR_0mbsloJZP",
        "outputId": "0564da52-5790-451c-a31f-f09c4e099981"
      },
      "execution_count": 13,
      "outputs": [
        {
          "output_type": "execute_result",
          "data": {
            "text/plain": [
              "<matplotlib.legend.Legend at 0x7fd99a2bf1d0>"
            ]
          },
          "metadata": {},
          "execution_count": 13
        },
        {
          "output_type": "display_data",
          "data": {
            "text/plain": [
              "<Figure size 432x288 with 1 Axes>"
            ],
            "image/png": "[encoded data removed]"
          },
          "metadata": {
            "needs_background": "light"
          }
        }
      ]
    },
    {
      "cell_type": "code",
      "source": [
        "plt.plot(historico.history['accuracy'])\n",
        "plt.plot(historico.history['val_accuracy'])\n",
        "plt.title('Acurácia por épocas')\n",
        "plt.xlabel('epócas')\n",
        "plt.ylabel('acurácia')\n",
        "plt.legend(['treino', 'avaliação'])"
      ],
      "metadata": {
        "colab": {
          "base_uri": "https://localhost:8080/",
          "height": 313
        },
        "id": "SziOFlxKplk9",
        "outputId": "f6d0ec48-e61b-45ec-f720-e3739151b6c4"
      },
      "execution_count": 14,
      "outputs": [
        {
          "output_type": "execute_result",
          "data": {
            "text/plain": [
              "<matplotlib.legend.Legend at 0x7fd99a2b0850>"
            ]
          },
          "metadata": {},
          "execution_count": 14
        },
        {
          "output_type": "display_data",
          "data": {
            "text/plain": [
              "<Figure size 432x288 with 1 Axes>"
            ],
            "image/png": "[encoded data removed]"
          },
          "metadata": {
            "needs_background": "light"
          }
        }
      ]
    },
    {
      "cell_type": "code",
      "source": [
        "modelo.get_config()"
      ],
      "metadata": {
        "colab": {
          "base_uri": "https://localhost:8080/"
        },
        "id": "gPWztn7dqD4Y",
        "outputId": "de1d34ce-4d67-463a-acbf-9a258d94e9c7"
      },
      "execution_count": 15,
      "outputs": [
        {
          "output_type": "execute_result",
          "data": {
            "text/plain": [
              "{'layers': [{'class_name': 'InputLayer',\n",
              "   'config': {'batch_input_shape': (None, 28, 28),\n",
              "    'dtype': 'float32',\n",
              "    'name': 'flatten_input',\n",
              "    'ragged': False,\n",
              "    'sparse': False}},\n",
              "  {'class_name': 'Flatten',\n",
              "   'config': {'batch_input_shape': (None, 28, 28),\n",
              "    'data_format': 'channels_last',\n",
              "    'dtype': 'float32',\n",
              "    'name': 'flatten',\n",
              "    'trainable': True}},\n",
              "  {'class_name': 'Dense',\n",
              "   'config': {'activation': 'relu',\n",
              "    'activity_regularizer': None,\n",
              "    'bias_constraint': None,\n",
              "    'bias_initializer': {'class_name': 'Zeros', 'config': {}},\n",
              "    'bias_regularizer': None,\n",
              "    'dtype': 'float32',\n",
              "    'kernel_constraint': None,\n",
              "    'kernel_initializer': {'class_name': 'GlorotUniform',\n",
              "     'config': {'seed': None}},\n",
              "    'kernel_regularizer': None,\n",
              "    'name': 'dense',\n",
              "    'trainable': True,\n",
              "    'units': 256,\n",
              "    'use_bias': True}},\n",
              "  {'class_name': 'Dropout',\n",
              "   'config': {'dtype': 'float32',\n",
              "    'name': 'dropout',\n",
              "    'noise_shape': None,\n",
              "    'rate': 0.2,\n",
              "    'seed': None,\n",
              "    'trainable': True}},\n",
              "  {'class_name': 'Dense',\n",
              "   'config': {'activation': 'softmax',\n",
              "    'activity_regularizer': None,\n",
              "    'bias_constraint': None,\n",
              "    'bias_initializer': {'class_name': 'Zeros', 'config': {}},\n",
              "    'bias_regularizer': None,\n",
              "    'dtype': 'float32',\n",
              "    'kernel_constraint': None,\n",
              "    'kernel_initializer': {'class_name': 'GlorotUniform',\n",
              "     'config': {'seed': None}},\n",
              "    'kernel_regularizer': None,\n",
              "    'name': 'dense_1',\n",
              "    'trainable': True,\n",
              "    'units': 10,\n",
              "    'use_bias': True}}],\n",
              " 'name': 'sequential'}"
            ]
          },
          "metadata": {},
          "execution_count": 15
        }
      ]
    },
    {
      "cell_type": "code",
      "source": [
        "plt.plot(historico.history['loss'])\n",
        "plt.plot(historico.history['val_loss'])\n",
        "plt.title('Perda por épocas')\n",
        "plt.xlabel('epócas')\n",
        "plt.ylabel('perda')\n",
        "plt.legend(['treino', 'avaliação'])"
      ],
      "metadata": {
        "colab": {
          "base_uri": "https://localhost:8080/",
          "height": 313
        },
        "id": "Gqq6GyZcoO9H",
        "outputId": "38f7d118-3c5d-4974-b273-3860a3f33921"
      },
      "execution_count": 16,
      "outputs": [
        {
          "output_type": "execute_result",
          "data": {
            "text/plain": [
              "<matplotlib.legend.Legend at 0x7fd99a205610>"
            ]
          },
          "metadata": {},
          "execution_count": 16
        },
        {
          "output_type": "display_data",
          "data": {
            "text/plain": [
              "<Figure size 432x288 with 1 Axes>"
            ],
            "image/png": "[encoded data removed]"
          },
          "metadata": {
            "needs_background": "light"
          }
        }
      ]
    },
    {
      "cell_type": "code",
      "source": [
        ""
      ],
      "metadata": {
        "id": "TPTGPBKNo4TS"
      },
      "execution_count": 16,
      "outputs": []
    },
    {
      "cell_type": "markdown",
      "source": [
        ""
      ],
      "metadata": {
        "id": "9ShZwYfOl_On"
      }
    },
    {
      "cell_type": "markdown",
      "source": [
        "# Salvando o modelo carregado"
      ],
      "metadata": {
        "id": "Zld79Q8n8fat"
      }
    },
    {
      "cell_type": "code",
      "source": [
        "from tensorflow.keras.models import load_model\n",
        "\n",
        "modelo.save('modelo.h5')\n",
        "modelo_salvo = load_model('modelo.h5')"
      ],
      "metadata": {
        "id": "l5ZEyxwb6xpp"
      },
      "execution_count": 17,
      "outputs": []
    },
    {
      "cell_type": "markdown",
      "source": [
        "# Visualizando as acurácias de treino e validação por época"
      ],
      "metadata": {
        "id": "4d0_NRCF8kdh"
      }
    },
    {
      "cell_type": "code",
      "source": [
        "plt.plot(historico.history['accuracy'])\n",
        "plt.plot(historico.history['val_accuracy'])\n",
        "plt.title('Acurácia por épocas')\n",
        "plt.xlabel('epócas')\n",
        "plt.ylabel('acurácia')\n",
        "plt.legend(['treino', 'avaliação'])"
      ],
      "metadata": {
        "colab": {
          "base_uri": "https://localhost:8080/",
          "height": 313
        },
        "id": "JVjhwFAZ2Q7V",
        "outputId": "d0ccb3ce-011a-45e0-c9d0-ec148311ffcf"
      },
      "execution_count": 18,
      "outputs": [
        {
          "output_type": "execute_result",
          "data": {
            "text/plain": [
              "<matplotlib.legend.Legend at 0x7fd99a179450>"
            ]
          },
          "metadata": {},
          "execution_count": 18
        },
        {
          "output_type": "display_data",
          "data": {
            "text/plain": [
              "<Figure size 432x288 with 1 Axes>"
            ],
            "image/png": "[encoded data removed]"
          },
          "metadata": {
            "needs_background": "light"
          }
        }
      ]
    },
    {
      "cell_type": "markdown",
      "source": [
        "# Visualizando as perdas de treino e validação por época"
      ],
      "metadata": {
        "id": "zSsGc1zH8sXT"
      }
    },
    {
      "cell_type": "code",
      "source": [
        "plt.plot(historico.history['loss'])\n",
        "plt.plot(historico.history['val_loss'])\n",
        "plt.title('Perda por épocas')\n",
        "plt.xlabel('epócas')\n",
        "plt.ylabel('perda')\n",
        "plt.legend(['treino', 'avaliação'])"
      ],
      "metadata": {
        "colab": {
          "base_uri": "https://localhost:8080/",
          "height": 313
        },
        "id": "-ZU9PLtu3QZs",
        "outputId": "72599413-6c5d-449e-f4dc-9c9439345677"
      },
      "execution_count": 19,
      "outputs": [
        {
          "output_type": "execute_result",
          "data": {
            "text/plain": [
              "<matplotlib.legend.Legend at 0x7fd99a0bee90>"
            ]
          },
          "metadata": {},
          "execution_count": 19
        },
        {
          "output_type": "display_data",
          "data": {
            "text/plain": [
              "<Figure size 432x288 with 1 Axes>"
            ],
            "image/png": "[encoded data removed]"
          },
          "metadata": {
            "needs_background": "light"
          }
        }
      ]
    },
    {
      "cell_type": "markdown",
      "source": [
        "# Testando o modelo e o modelo salvo"
      ],
      "metadata": {
        "id": "gu87zrUL8xfw"
      }
    },
    {
      "cell_type": "code",
      "source": [
        "testes = modelo.predict(imagens_teste)\n",
        "print('resultado teste:', np.argmax(testes[0]))\n",
        "print('número da imagem de teste: ', identificacoes_teste[0])\n",
        "\n",
        "testes_modelo_salvo = modelo_salvo.predict(imagens_teste)\n",
        "print('resultado teste modelo salvo: ',np.argmax(testes_modelo_salvo[0]))\n",
        "print('número da imagem de teste modelo salvo: ', identificacoes_teste[0])"
      ],
      "metadata": {
        "id": "0luwFcbV5izb",
        "colab": {
          "base_uri": "https://localhost:8080/"
        },
        "outputId": "023f28cd-3891-4647-dde3-2d220b486cdd"
      },
      "execution_count": 20,
      "outputs": [
        {
          "output_type": "stream",
          "name": "stdout",
          "text": [
            "resultado teste: 9\n",
            "número da imagem de teste:  9\n",
            "resultado teste modelo salvo:  9\n",
            "número da imagem de teste modelo salvo:  9\n"
          ]
        }
      ]
    },
    {
      "cell_type": "markdown",
      "source": [
        "# Avaliando o modelo"
      ],
      "metadata": {
        "id": "KWLMI-ef8--u"
      }
    },
    {
      "cell_type": "code",
      "source": [
        "perda_teste, acuracia_teste = modelo.evaluate(imagens_teste, identificacoes_teste)\n",
        "print('Perda do teste: ', perda_teste)\n",
        "print('Acurácia do teste', acuracia_teste)\n"
      ],
      "metadata": {
        "colab": {
          "base_uri": "https://localhost:8080/"
        },
        "id": "RK735nze0AvZ",
        "outputId": "23e1f4ff-5b09-41fa-b3be-4a9e63dea9ab"
      },
      "execution_count": 21,
      "outputs": [
        {
          "output_type": "stream",
          "name": "stdout",
          "text": [
            "313/313 [==============================] - 2s 5ms/step - loss: 656.5146 - accuracy: 0.7257\n",
            "Perda do teste:  656.5145874023438\n",
            "Acurácia do teste 0.7257000207901001\n"
          ]
        }
      ]
    },
    {
      "cell_type": "code",
      "source": [
        ""
      ],
      "metadata": {
        "id": "4hEo0K6Wkm2r"
      },
      "execution_count": 21,
      "outputs": []
    }
  ]
}